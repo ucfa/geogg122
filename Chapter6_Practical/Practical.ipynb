{
 "cells": [
  {
   "cell_type": "markdown",
   "metadata": {
    "toc": "true"
   },
   "source": [
    " # Table of Contents\n",
    "<div class=\"toc\" style=\"margin-top: 1em;\"><ul class=\"toc-item\" id=\"toc-level0\"><li><span><a href=\"http://localhost:8888/notebooks/Chapter6_Practical/Practical.ipynb#6.1-Introduction\" data-toc-modified-id=\"6.1-Introduction-1\"><span class=\"toc-item-num\">1&nbsp;&nbsp;</span>6.1 Introduction</a></span><ul class=\"toc-item\"><li><span><a href=\"http://localhost:8888/notebooks/Chapter6_Practical/Practical.ipynb#6.1.1-Site,-Data-and-Task-overview\" data-toc-modified-id=\"6.1.1-Site,-Data-and-Task-overview-1.1\"><span class=\"toc-item-num\">1.1&nbsp;&nbsp;</span>6.1.1 Site, Data and Task overview</a></span></li><li><span><a href=\"http://localhost:8888/notebooks/Chapter6_Practical/Practical.ipynb#6.1.2-The-Model\" data-toc-modified-id=\"6.1.2-The-Model-1.2\"><span class=\"toc-item-num\">1.2&nbsp;&nbsp;</span>6.1.2 The Model</a></span></li></ul></li><li><span><a href=\"http://localhost:8888/notebooks/Chapter6_Practical/Practical.ipynb#6.2-Data-Preparation\" data-toc-modified-id=\"6.2-Data-Preparation-2\"><span class=\"toc-item-num\">2&nbsp;&nbsp;</span>6.2 Data Preparation</a></span><ul class=\"toc-item\"><li><span><a href=\"http://localhost:8888/notebooks/Chapter6_Practical/Practical.ipynb#6.2.1-Statement-of-the-task\" data-toc-modified-id=\"6.2.1-Statement-of-the-task-2.1\"><span class=\"toc-item-num\">2.1&nbsp;&nbsp;</span>6.2.1 Statement of the task</a></span></li><li><span><a href=\"http://localhost:8888/notebooks/Chapter6_Practical/Practical.ipynb#6.2.2-Some-Advice\" data-toc-modified-id=\"6.2.2-Some-Advice-2.2\"><span class=\"toc-item-num\">2.2&nbsp;&nbsp;</span>6.2.2 Some Advice</a></span></li><li><span><a href=\"http://localhost:8888/notebooks/Chapter6_Practical/Practical.ipynb#6.2.3-Data-Advice\" data-toc-modified-id=\"6.2.3-Data-Advice-2.3\"><span class=\"toc-item-num\">2.3&nbsp;&nbsp;</span>6.2.3 Data Advice</a></span><ul class=\"toc-item\"><li><span><a href=\"http://localhost:8888/notebooks/Chapter6_Practical/Practical.ipynb#6.2.3.1-MODIS-snow-cover-data\" data-toc-modified-id=\"6.2.3.1-MODIS-snow-cover-data-2.3.1\"><span class=\"toc-item-num\">2.3.1&nbsp;&nbsp;</span>6.2.3.1 MODIS snow cover data</a></span></li><li><span><a href=\"http://localhost:8888/notebooks/Chapter6_Practical/Practical.ipynb#6.2.3.2-Boundary-Data\" data-toc-modified-id=\"6.2.3.2-Boundary-Data-2.3.2\"><span class=\"toc-item-num\">2.3.2&nbsp;&nbsp;</span>6.2.3.2 Boundary Data</a></span></li><li><span><a href=\"http://localhost:8888/notebooks/Chapter6_Practical/Practical.ipynb#6.2.3.3-Discharge-Data\" data-toc-modified-id=\"6.2.3.3-Discharge-Data-2.3.3\"><span class=\"toc-item-num\">2.3.3&nbsp;&nbsp;</span>6.2.3.3 Discharge Data</a></span></li><li><span><a href=\"http://localhost:8888/notebooks/Chapter6_Practical/Practical.ipynb#6.2.3.4-Temperature-data\" data-toc-modified-id=\"6.2.3.4-Temperature-data-2.3.4\"><span class=\"toc-item-num\">2.3.4&nbsp;&nbsp;</span>6.2.3.4 Temperature data</a></span></li></ul></li></ul></li><li><span><a href=\"http://localhost:8888/notebooks/Chapter6_Practical/Practical.ipynb#6.3-Coursework\" data-toc-modified-id=\"6.3-Coursework-3\"><span class=\"toc-item-num\">3&nbsp;&nbsp;</span>6.3 Coursework</a></span><ul class=\"toc-item\"><li><span><a href=\"http://localhost:8888/notebooks/Chapter6_Practical/Practical.ipynb#6.3.1-Summary-of-coursework-requirements\" data-toc-modified-id=\"6.3.1-Summary-of-coursework-requirements-3.1\"><span class=\"toc-item-num\">3.1&nbsp;&nbsp;</span>6.3.1 Summary of coursework requirements</a></span></li><li><span><a href=\"http://localhost:8888/notebooks/Chapter6_Practical/Practical.ipynb#6.3.2-Summary-of-Advice\" data-toc-modified-id=\"6.3.2-Summary-of-Advice-3.2\"><span class=\"toc-item-num\">3.2&nbsp;&nbsp;</span>6.3.2 Summary of Advice</a></span></li><li><span><a href=\"http://localhost:8888/notebooks/Chapter6_Practical/Practical.ipynb#6.3.3-Further-advice\" data-toc-modified-id=\"6.3.3-Further-advice-3.3\"><span class=\"toc-item-num\">3.3&nbsp;&nbsp;</span>6.3.3 Further advice</a></span></li><li><span><a href=\"http://localhost:8888/notebooks/Chapter6_Practical/Practical.ipynb#6.3.4-Structure-of-the-Report\" data-toc-modified-id=\"6.3.4-Structure-of-the-Report-3.4\"><span class=\"toc-item-num\">3.4&nbsp;&nbsp;</span>6.3.4 Structure of the Report</a></span><ul class=\"toc-item\"><li><span><a href=\"http://localhost:8888/notebooks/Chapter6_Practical/Practical.ipynb#Introduction-(5%)\" data-toc-modified-id=\"Introduction-(5%)-3.4.1\"><span class=\"toc-item-num\">3.4.1&nbsp;&nbsp;</span>Introduction (5%)</a></span></li><li><span><a href=\"http://localhost:8888/notebooks/Chapter6_Practical/Practical.ipynb#Data-Preparation-(45%)\" data-toc-modified-id=\"Data-Preparation-(45%)-3.4.2\"><span class=\"toc-item-num\">3.4.2&nbsp;&nbsp;</span>Data Preparation (45%)</a></span></li><li><span><a href=\"http://localhost:8888/notebooks/Chapter6_Practical/Practical.ipynb#Modelling\" data-toc-modified-id=\"Modelling-3.4.3\"><span class=\"toc-item-num\">3.4.3&nbsp;&nbsp;</span>Modelling</a></span></li><li><span><a href=\"http://localhost:8888/notebooks/Chapter6_Practical/Practical.ipynb#Discussion-and-Conclusions\" data-toc-modified-id=\"Discussion-and-Conclusions-3.4.4\"><span class=\"toc-item-num\">3.4.4&nbsp;&nbsp;</span>Discussion and Conclusions</a></span></li></ul></li><li><span><a href=\"http://localhost:8888/notebooks/Chapter6_Practical/Practical.ipynb#6.3.5-Computer-Code\" data-toc-modified-id=\"6.3.5-Computer-Code-3.5\"><span class=\"toc-item-num\">3.5&nbsp;&nbsp;</span>6.3.5 Computer Code</a></span><ul class=\"toc-item\"><li><span><a href=\"http://localhost:8888/notebooks/Chapter6_Practical/Practical.ipynb#General-requirements\" data-toc-modified-id=\"General-requirements-3.5.1\"><span class=\"toc-item-num\">3.5.1&nbsp;&nbsp;</span>General requirements</a></span></li><li><span><a href=\"http://localhost:8888/notebooks/Chapter6_Practical/Practical.ipynb#Degree-of-original-work-required-and-plagiarism\" data-toc-modified-id=\"Degree-of-original-work-required-and-plagiarism-3.5.2\"><span class=\"toc-item-num\">3.5.2&nbsp;&nbsp;</span>Degree of original work required and plagiarism</a></span></li><li><span><a href=\"http://localhost:8888/notebooks/Chapter6_Practical/Practical.ipynb#Documentation\" data-toc-modified-id=\"Documentation-3.5.3\"><span class=\"toc-item-num\">3.5.3&nbsp;&nbsp;</span>Documentation</a></span></li><li><span><a href=\"http://localhost:8888/notebooks/Chapter6_Practical/Practical.ipynb#Word-limit\" data-toc-modified-id=\"Word-limit-3.5.4\"><span class=\"toc-item-num\">3.5.4&nbsp;&nbsp;</span>Word limit</a></span></li><li><span><a href=\"http://localhost:8888/notebooks/Chapter6_Practical/Practical.ipynb#Code-style\" data-toc-modified-id=\"Code-style-3.5.5\"><span class=\"toc-item-num\">3.5.5&nbsp;&nbsp;</span>Code style</a></span></li></ul></li></ul></li></ul></div>"
   ]
  },
  {
   "cell_type": "markdown",
   "metadata": {},
   "source": [
    "# 6. Assessed Practical"
   ]
  },
  {
   "cell_type": "markdown",
   "metadata": {},
   "source": [
    "## 6.1 Introduction"
   ]
  },
  {
   "cell_type": "markdown",
   "metadata": {},
   "source": [
    "### 6.1.1 Site, Data and Task overview"
   ]
  },
  {
   "cell_type": "markdown",
   "metadata": {},
   "source": [
    "These notes describe the practical you must submit for assessment in this course.\n",
    "\n",
    "The practical comes in two parts: (1) data preparation; (2) modelling. \n",
    "\n",
    "It is important that you complete both parts of this exercise, as you will need to make use of the code and results in the work you submit for assessment for this course.\n",
    "\n",
    "- **Data Preparation**\n",
    "  \n",
    "     The first task you must complete is to produce a dataset of the proportion of HUC catchment 13010001 (Rio Grande headwaters in Colorado, USA) that is covered by snow for **two consecutive years**, along with associated datasets on temperature (in C) and river discharge at the Del Norte monitoring station. You **may not** use data from the year 2005, as this is given to you in the illustrations above.\n",
    "\n",
    "    The dataset you produce must have a value for the mean snow cover, temperature and discharge in the catchment for every day over each year.\n",
    "\n",
    "    Your write up **must** include fully labelled graph(s) of snow cover, temperature and discharge for the catchment for each year (with units as appropriate), along with some summary statistics (e.g. mean or median, minimum, maximum, and the timing of these). \n",
    "    \n",
    "    You **must** provide evidence of how you got these data (i.e. the code and commands you ran to produce the data).\n",
    "    \n",
    "    \n",
    "    \n",
    "- **Modelling**\n",
    "\n",
    "    You will have prepared two years of data above. Use one of these years to calibrate the (snowmelt) hydrological model (described below) and one year to test it. \n",
    "    \n",
    "    The model parameter estimate *must* be objective (i.e. you can't just arbitrarily choose a set) and ideally optimal, and you *must* state the equation of the cost function you will try to minimise and explain the approach used.\n",
    "    \n",
    "    You **must** state the values of the model parameters that you have estimated and show evidence for how you went about calculating them. Ideally, you should also state the uncertainty in these parameter estimates (not critical to pass this section though).\n",
    "    \n",
    "    You **must** quantify the goodness of fit between your measured flow data and that produced by your model, booth for the calibration exercise and the validation.\n",
    "    \n",
    "\n",
    "You **must** work individually on this task. If you do not, it will be treated as plagiarism. By reading these instructions for this exercise, we assume that you are aware of the UCL rules on plagiarism. You can find more information on this matter in your student handbook. If in doubt about what might constitute plagiarism, ask one of the course convenors."
   ]
  },
  {
   "cell_type": "markdown",
   "metadata": {},
   "source": [
    "What you are going to do is to build, calibrate and test a (snowmelt) hydrological model, driven by observations in the Rio Grande Headwaters in Colorado, USA. \n",
    "\n",
    "**You will need to process two years of data (N.B. *not* 2005 as that is given in the illustrations).**\n",
    "\n",
    "The purpose of the model is to describe the streamflow at the Del Norte measurement station, just on the edge of the catchment.\n",
    "\n",
    "The average climate for Del Norte is:\n",
    "\n",
    "![](images/usco0103climatedelnorte.png)\n",
    "\n",
    "Further general information is available from various [websites](http://www.usclimatedata.com/climate.php?location=USCO0103), including [NOAA](http://www.ncdc.noaa.gov).\n",
    "\n",
    "You can visualise the site [here](http://mesonet.agron.iastate.edu/sites/site.php?station=CO2184&network=COCLIMATE).\n",
    "\n",
    "First then, we should look at the streamflow data. These data are in the file [delnorte.dat](data/delnorte.dat) for the years 2000 to 2015 inclusive. You can get further data from [http://waterdata.usgs.gov](http://waterservices.usgs.gov/nwis/dv/?sites=08220000&format=rdb&startDT=2001-01-01&parameterCd=00060) if you wish.\n",
    "\n"
   ]
  },
  {
   "cell_type": "code",
   "execution_count": 1,
   "metadata": {
    "ExecuteTime": {
     "end_time": "2017-11-21T19:41:33.694758Z",
     "start_time": "2017-11-21T19:41:32.863941Z"
    }
   },
   "outputs": [
    {
     "data": {
      "text/plain": [
       "<matplotlib.legend.Legend at 0x7ff20ab899d0>"
      ]
     },
     "execution_count": 1,
     "metadata": {},
     "output_type": "execute_result"
    },
    {
     "data": {
      "image/png": "[encoded data removed]",
      "text/plain": [
       "<matplotlib.figure.Figure at 0x7ff20ceac790>"
      ]
     },
     "metadata": {},
     "output_type": "display_data"
    }
   ],
   "source": [
    "# load a pre-cooked version of the data for 2005 (NB -- Dont use this year!!!\n",
    "# except perhaps for testing)\n",
    "\n",
    "# load the data from a pickle file\n",
    "import pickle\n",
    "import pylab as plt\n",
    "import numpy as np\n",
    "%matplotlib inline\n",
    "\n",
    "pkl_file = open('data/data.pkl', 'rb')\n",
    "data = pickle.load(pkl_file)\n",
    "pkl_file.close()\n",
    "\n",
    "# set up plot\n",
    "plt.figure(figsize=(10,7))\n",
    "plt.xlim(data['doy'][0],data['doy'][-1]+1)\n",
    "plt.xlabel('day of year 2005')\n",
    "\n",
    "# plot data\n",
    "plt.plot(data['doy'],data['temp'],'r',label='temperature / C')\n",
    "plt.plot(data['doy'],data['snowprop']*100,'b',label='snow cover %')\n",
    "plt.plot(data['doy'],100-data['snowprop']*100,'c',label='snow free cover %')\n",
    "plt.plot(data['doy'],data['flow']/100.,'g',label='river flow / 100')\n",
    "\n",
    "\n",
    "plt.legend(loc='best')"
   ]
  },
  {
   "cell_type": "markdown",
   "metadata": {},
   "source": [
    "we have plotted the streamflow (scaled) in green, the snow cover in blue, and the non snow cover in cyan and the temperature in red. It should be apparent that thge hydrology is snow melt dominated, and to describe this (i.e. to build the simplest possible model) we can probably just apply some time lag function to the snow cover."
   ]
  },
  {
   "cell_type": "markdown",
   "metadata": {},
   "source": [
    "### 6.1.2 The Model"
   ]
  },
  {
   "cell_type": "markdown",
   "metadata": {},
   "source": [
    "We will build a mass balance model, in terms of 'snow water equivalent':\n",
    "\n",
    "The basis of a model is going to be something of the form:\n",
    "\n",
    "$$\n",
    "SWE = k * snowProportion\n",
    "$$\n",
    "\n",
    "where $SWE$ is the 'snow water equivalent', the amount of snow in the entire snow pack in the catchment. $snowProportion$ here then, is the proportion of snow cover in the catchment. We lump together density and volume terms into the coefficient $k$. \n",
    "\n",
    "$SWE$ then is the 'mass' (of water) that is available for melting on a particular day. We can obtain $snowProportion$ from satellite data, so we only need the area / density term $k$, which we can suppose to be constant over time.\n",
    "\n",
    "The simplest model of snowmelt is one where we assume that a proportion of this $SWE$ is released (melted) as a function of temperature. In its simplest form, this is simply a temperature threshold:\n",
    "\n",
    "``\n",
    "meltDays = np.where(temperature > tempThresh)[0]\n",
    "``\n",
    "\n",
    "On these melt days then, we add `k * snowProportion` of water into the system. For the present, we will ignore direct precipitation. So:\n",
    "\n",
    "``\n",
    "for d in meltDays:\n",
    "    water = K * snowProportion[d]\n",
    "``\n",
    "\n",
    "Now we have a mechanism to release snow melt into the catchment, but there will always be some delay in the water reaching the monitoring station from far away regions, compared to nearby areas. The function that describes this delay can be called a network response function. It is often modelled as a Laplace function (an exponential). The idea is that if we have a 'flash' input to the catchment, this [network response function](http://www.google.co.uk/search?q=network+response+function&ie=utf-8&oe=utf-8&aq=t&rls=org.mozilla:en-US:official&client=firefox-a#sclient=psy-ab&hl=en&client=firefox-a&hs=qgI&rls=org.mozilla:en-US%3Aofficial&source=hp&q=network+response+function+hydrology&pbx=1&oq=network+response+function+hydrology&aq=f&aqi=&aql=&gs_sm=e&gs_upl=2213l4483l0l4547l10l9l0l0l0l0l226l961l6.2.1l9l0&bav=on.2,or.r_gc.r_pw.r_cp.,cf.osb&fp=d48ede2c1f2a6462&biw=1098&bih=673) will give us what we would measure as a hydrograph at the monitoring station (or elsewhere).\n",
    "\n",
    "We can parameterise this with a decay factor, p, so that if the amount of water on day d is 1, the amount on day d+1 is p, on d+2, p^2 etc:\n",
    "\n",
    "``\n",
    "n = np.arange(len(snowProportion)) - d\n",
    "m = p ** n\n",
    "m[np.where(n<0)]=0\n",
    "``\n",
    "\n",
    "so here, `m` is the decay function:\n",
    "\n",
    "![](images/laplace.png)\n",
    "\n",
    "for day 150. This model will transfer a large amount of water of the peak day, then less and less as time goes by. So, a simple model then is of the form:"
   ]
  },
  {
   "cell_type": "code",
   "execution_count": 2,
   "metadata": {
    "ExecuteTime": {
     "end_time": "2017-11-21T19:41:40.448951Z",
     "start_time": "2017-11-21T19:41:40.428961Z"
    }
   },
   "outputs": [],
   "source": [
    "def model_accum(data,tempThresh,k,p):\n",
    "    meltDays = np.where(data['temp'] > tempThresh)[0]\n",
    "    accum = data['snowprop']*0.\n",
    "    for d in meltDays:\n",
    "        water = k * data['snowprop'][d]\n",
    "        n = np.arange(len(data['snowprop'])) - d\n",
    "        m = p ** n\n",
    "        m[np.where(n<0)]=0\n",
    "        accum += m * water\n",
    "    return accum\n",
    "\n",
    "\n",
    "tempThresh = 8.5\n",
    "k = 2000.0\n",
    "p = 0.95\n",
    "\n",
    "# test it\n",
    "accum = model_accum(data,tempThresh,k,p)"
   ]
  },
  {
   "cell_type": "markdown",
   "metadata": {},
   "source": [
    "This is a very simple model. It has three parameters (`tempThresh`, `k`, `p`) and is driven only by temperature and snow cover data. And yet, we see that even with a rough guess at what the parameters ought to be, we can get a reasonable match with the observed flow data:"
   ]
  },
  {
   "cell_type": "code",
   "execution_count": 3,
   "metadata": {
    "ExecuteTime": {
     "end_time": "2017-11-21T19:41:42.800559Z",
     "start_time": "2017-11-21T19:41:42.462489Z"
    }
   },
   "outputs": [
    {
     "data": {
      "text/plain": [
       "<matplotlib.legend.Legend at 0x7ff20aadfad0>"
      ]
     },
     "execution_count": 3,
     "metadata": {},
     "output_type": "execute_result"
    },
    {
     "data": {
      "image/png": "[encoded data removed]",
      "text/plain": [
       "<matplotlib.figure.Figure at 0x7ff234014550>"
      ]
     },
     "metadata": {},
     "output_type": "display_data"
    }
   ],
   "source": [
    "plt.figure(figsize=(10,5))\n",
    "plt.plot(data['doy'],data['flow'],'k',label='measured')\n",
    "plt.plot(data['doy'],accum,'k--',label='modelled')\n",
    "plt.ylabel('river flow / units??')\n",
    "plt.xlabel('day of year 2005')\n",
    "plt.legend(loc='best')"
   ]
  },
  {
   "cell_type": "markdown",
   "metadata": {},
   "source": [
    "## 6.2 Data Preparation"
   ]
  },
  {
   "cell_type": "markdown",
   "metadata": {},
   "source": [
    "### 6.2.1 Statement of the task"
   ]
  },
  {
   "cell_type": "markdown",
   "metadata": {},
   "source": [
    "The first task you must complete is to produce a dataset of the proportion of HUC catchment 13010001 (Rio Grande headwaters) that is covered by snow for **two years**, along with associated datasets on temperature and river discharge at the Del Norte monitoring station.\n",
    "\n",
    "The dataset you produce must have a value for the mean snow cover, temperature and discharge in the catchment for every day over each year.\n",
    "\n",
    "Your write up **must** include a fully labelled graph of snow cover, temperature and discharge for the catchment for each year, along with some summary statistics (e.g. mean or median, minimum, maximum, and the timing of these).\n",
    "\n",
    "![](images/snow.png)\n",
    "\n",
    "You should aim to complete this task soon after Reading Week. "
   ]
  },
  {
   "cell_type": "markdown",
   "metadata": {},
   "source": [
    "### 6.2.2 Some Advice"
   ]
  },
  {
   "cell_type": "markdown",
   "metadata": {},
   "source": [
    "You would probably want to use a **daily** snow product for this task, such as that available from MODIS, so make sure you know what that is and explore the characteristics of the dataset.\n",
    "  \n",
    "You will notice from the figure above (the figure should give you some clue as to a suitable data product) that there will be areas of each image for which you have no information (described in the dataset QC). You will need to decide what to do about 'missing data'. For instance, you might consider interpolating over missing values. \n",
    "\n",
    "The simplest thing might be to produce a mean snow cover over what samples are available (ignoring the missing values). But whilst that may be sufficient to pass this section, it is far from ideal. \n",
    "\n",
    "Whilst you only need to produce an average daily value for the catchment, a better approach would be to try to estimate snow cover for each pixel in the catchment (e.g. so you could do spatially explicit modelling with such data). I stress that this is not strictly necessary, but would be an interesting thing to do if you feel able.\n",
    "\n",
    "However you decide to process the data, you must give a rationale for why you have taken the approach you have done. \n",
    "\n",
    "You will notice that if you use MODIS data, you have access to both data from Terra (MOD10A) and Aqua (MYD10A), which potentially gives you two samples per day. Think about how to take that into account. Again, the simplest thing to do might be to just use one of these. That is likely to be sufficient, but it would be much better to include both datasets.\n",
    "\n",
    "You should be able to hunt around to find the temperature and discharge data you want, but we take you through finding them in the advice below."
   ]
  },
  {
   "cell_type": "markdown",
   "metadata": {},
   "source": [
    "### 6.2.3 Data Advice"
   ]
  },
  {
   "cell_type": "markdown",
   "metadata": {},
   "source": [
    "#### 6.2.3.1 MODIS snow cover data"
   ]
  },
  {
   "cell_type": "markdown",
   "metadata": {},
   "source": [
    "For MODIS data, you will need to work out which data product you want and how to download it. To help you with this, the 'pattern' of the URLs is:\n",
    "```python\n",
    "info = {'YEAR':2007,'MONTH':1,'DAY':1}\n",
    "url = 'https://n5eil01u.ecs.nsidc.org/MOST/MOD10A1.006/' + \\\n",
    "    '{YEAR}.{MONTH:02d}.DAY:02d}/MYD*h09v05.006*hdf'.format(**info)\n",
    "\n",
    "```"
   ]
  },
  {
   "cell_type": "code",
   "execution_count": 8,
   "metadata": {
    "ExecuteTime": {
     "end_time": "2017-11-21T19:44:59.920851Z",
     "start_time": "2017-11-21T19:44:59.916390Z"
    }
   },
   "outputs": [
    {
     "name": "stdout",
     "output_type": "stream",
     "text": [
      "https://n5eil01u.ecs.nsidc.org/MOST/MOD10A1.006/2007.01.01/MYD*h09v05.006*hdf\n"
     ]
    }
   ],
   "source": [
    "info = {'YEAR':2007,'MONTH':1,'DAY':1}\n",
    "url = 'https://n5eil01u.ecs.nsidc.org/MOST/MOD10A1.006/' + \\\n",
    "    '{YEAR}.{MONTH:02d}.{DAY:02d}/MYD*h09v05.006*hdf'.format(**info)\n",
    "print url"
   ]
  },
  {
   "cell_type": "markdown",
   "metadata": {},
   "source": [
    "We have some code from Chapter 4 that allows us to download data (again, remember to use your own account!)"
   ]
  },
  {
   "cell_type": "code",
   "execution_count": 15,
   "metadata": {
    "ExecuteTime": {
     "end_time": "2017-11-21T19:48:15.591157Z",
     "start_time": "2017-11-21T19:48:05.872403Z"
    }
   },
   "outputs": [
    {
     "name": "stdout",
     "output_type": "stream",
     "text": [
      "\n",
      "########################################################################################\n",
      "###  CHANGE ME! CHANGE ME! CHANGE ME! CHANGE ME! CHANGE ME! CHANGE ME! CHANGE ME!    ###\n",
      "########################################################################################\n",
      "\n",
      "Saved file data/MOD10A1.A2016001.h09v05.006.2016183123533.hdf\n",
      "<osgeo.gdal.Dataset; proxy of <Swig Object of type 'GDALDatasetShadow *' at 0x7ff1f1e75f60> >\n"
     ]
    }
   ],
   "source": [
    "import os\n",
    "import requests\n",
    "import datetime\n",
    "print \"\"\"\n",
    "########################################################################################\n",
    "###  CHANGE ME! CHANGE ME! CHANGE ME! CHANGE ME! CHANGE ME! CHANGE ME! CHANGE ME!    ###\n",
    "########################################################################################\n",
    "\"\"\"\n",
    "username = \"profLewis\"\n",
    "password = \"GeogG1222016\"\n",
    "\n",
    "def url_downloader (username, password, tile, destination_folder=\"data/\",\n",
    "                    url=\"https://n5eil01u.ecs.nsidc.org/DP5/MOST/MOD10A1.006/2016.01.01/\"):\n",
    "    \"\"\"Downloads data from a NASA URL, provided that a username/password pair exist.\n",
    "    Parameters\n",
    "    ----------\n",
    "    username: str\n",
    "        The NASA EarthData username\n",
    "    password: str\n",
    "        The NASA EarthData password\n",
    "    destination_folder: str\n",
    "        The destination folder\n",
    "    url: str\n",
    "        The required URL\n",
    "    \n",
    "    Returns\n",
    "    --------\n",
    "    A string with the location of the downloaded file.\n",
    "    \"\"\"\n",
    "    with requests.Session() as session:\n",
    "            session.auth = (username, password)\n",
    "            r1 = session.request('get', url)\n",
    "            r = session.get(r1.url, auth=(username, password))\n",
    "            if r.ok:\n",
    "                for line in r.text.split(\"\\n\"):\n",
    "                    if line.find(tile) >= 0 and line.find(\".hdf\") >= 0 and line.find(\".xml\") < 0:\n",
    "                        fname = line.split(\"href\")[1][1:].split('\"')[1]\n",
    "            url_granule = url + fname\n",
    "            r1 = session.request('get', url_granule)\n",
    "            r = session.get(r1.url, auth=(username, password))\n",
    "            output_fname = os.path.join(destination_folder, fname)\n",
    "            if r.ok:\n",
    "                with open(output_fname, 'w') as fp:\n",
    "                    fp.write(r.content)\n",
    "            print \"Saved file {}\".format(output_fname)\n",
    "            return output_fname\n",
    "# Test downloading a file\n",
    "the_file = url_downloader (username, password, \"h09v05\")\n",
    "# check file is there\n",
    "import gdal\n",
    "g = gdal.Open(the_file)\n",
    "print g"
   ]
  },
  {
   "cell_type": "markdown",
   "metadata": {},
   "source": [
    "We can use the usual tools to explore the MODIS hdf files:"
   ]
  },
  {
   "cell_type": "code",
   "execution_count": 17,
   "metadata": {
    "ExecuteTime": {
     "end_time": "2017-11-21T19:48:36.930870Z",
     "start_time": "2017-11-21T19:48:36.913913Z"
    }
   },
   "outputs": [
    {
     "name": "stdout",
     "output_type": "stream",
     "text": [
      "[2400x2400] NDSI_Snow_Cover MOD_Grid_Snow_500m (8-bit unsigned integer)\n",
      "\tHDF4_EOS:EOS_GRID:\"data/MOD10A1.A2016001.h09v05.006.2016183123533.hdf\":MOD_Grid_Snow_500m:NDSI_Snow_Cover\n",
      "[2400x2400] NDSI_Snow_Cover_Basic_QA MOD_Grid_Snow_500m (8-bit unsigned integer)\n",
      "\tHDF4_EOS:EOS_GRID:\"data/MOD10A1.A2016001.h09v05.006.2016183123533.hdf\":MOD_Grid_Snow_500m:NDSI_Snow_Cover_Basic_QA\n",
      "[2400x2400] NDSI_Snow_Cover_Algorithm_Flags_QA MOD_Grid_Snow_500m (8-bit unsigned integer)\n",
      "\tHDF4_EOS:EOS_GRID:\"data/MOD10A1.A2016001.h09v05.006.2016183123533.hdf\":MOD_Grid_Snow_500m:NDSI_Snow_Cover_Algorithm_Flags_QA\n",
      "[2400x2400] NDSI MOD_Grid_Snow_500m (16-bit integer)\n",
      "\tHDF4_EOS:EOS_GRID:\"data/MOD10A1.A2016001.h09v05.006.2016183123533.hdf\":MOD_Grid_Snow_500m:NDSI\n",
      "[2400x2400] Snow_Albedo_Daily_Tile MOD_Grid_Snow_500m (8-bit unsigned integer)\n",
      "\tHDF4_EOS:EOS_GRID:\"data/MOD10A1.A2016001.h09v05.006.2016183123533.hdf\":MOD_Grid_Snow_500m:Snow_Albedo_Daily_Tile\n",
      "[2400x2400] orbit_pnt MOD_Grid_Snow_500m (8-bit integer)\n",
      "\tHDF4_EOS:EOS_GRID:\"data/MOD10A1.A2016001.h09v05.006.2016183123533.hdf\":MOD_Grid_Snow_500m:orbit_pnt\n",
      "[2400x2400] granule_pnt MOD_Grid_Snow_500m (8-bit unsigned integer)\n",
      "\tHDF4_EOS:EOS_GRID:\"data/MOD10A1.A2016001.h09v05.006.2016183123533.hdf\":MOD_Grid_Snow_500m:granule_pnt\n"
     ]
    }
   ],
   "source": [
    "import gdal\n",
    "target_vector_file = file\n",
    "modis_file = 'data/MOD10A1.A2016001.h09v05.006.2016183123533.hdf'\n",
    "g = gdal.Open(modis_file)\n",
    "if g is None:\n",
    "    print 'error opening file: HDF4 problem with GDAL?'\n",
    "else:\n",
    "    # note this has changed in collection 6\n",
    "    data_layer = 'MOD_Grid_Snow_500m:NDSI_Snow_Cover'\n",
    "\n",
    "    subdatasets = g.GetSubDatasets()\n",
    "    for fname, name in subdatasets:\n",
    "        print name\n",
    "        print \"\\t\", fname\n",
    "\n",
    "    fname = 'HDF4_EOS:EOS_GRID:\"%s\":%s'%(modis_file,data_layer)\n",
    "    raster = gdal.Open(fname)"
   ]
  },
  {
   "cell_type": "markdown",
   "metadata": {},
   "source": [
    "#### 6.2.3.2 Boundary Data"
   ]
  },
  {
   "cell_type": "markdown",
   "metadata": {},
   "source": [
    "Boundary data, such as catchments, might typically come as [ESRI shapefiles](http://en.wikipedia.org/wiki/Shapefile) or may be in other vector formats. There tends to be variable quality among different databases, but a reliable source for catchment data the USA is the [USGS](http://water.usgs.gov/GIS/huc.html). One set of catchments in the tile we have is the Rio Grande headwaters, which we can [see](http://water.usgs.gov/GIS/huc_rdb.html) has a HUC 8-digit code of 13010001. The full dataset is easily found from the [USGS](http://water.usgs.gov/GIS/dsdl/huc250k_shp.zip) or [locally](files/data/huc250k_shp.zip). Literature and associated data concerning this area can be found [here](http://water.usgs.gov/lookup/getwatershed?13010001). Associated [GIS data are here](http://water.usgs.gov/lookup/getgislist?type=huc&value=13010001), including the [watershed boundary data](http://water.usgs.gov/GIS/dsdl/ds573_wbdhuc8.ZIP).\n",
    "\n",
    "Data more specific to our particular catchment of interest can be found on the [Rio Grande Data Project pages](http://txpub.usgs.gov/USACE/resources.aspx).\n",
    "\n",
    "You should download the file [Hydrologic_Units.zip](http://txpub.usgs.gov/USACE/data/water_resources/Hydrologic_Units.zip) or get this [locally](files/data/Hydrologic_Units.zip). Obviously, you will need to `unzip` this file to get at the shapefile [`Hydrologic_Units/HUC_Polygons.shp`](files/data/Hydrologic_Units/HUC_Polygons.shp) within it."
   ]
  },
  {
   "cell_type": "markdown",
   "metadata": {},
   "source": [
    "You can explore the shape file with the following:"
   ]
  },
  {
   "cell_type": "code",
   "execution_count": 20,
   "metadata": {
    "ExecuteTime": {
     "end_time": "2017-11-21T19:48:52.308504Z",
     "start_time": "2017-11-21T19:48:52.032271Z"
    },
    "scrolled": true
   },
   "outputs": [
    {
     "name": "stdout",
     "output_type": "stream",
     "text": [
      "  POLYGON ((-883742.2919 140738.5877,-883617.1438 140273.0754,-883558.065400001 138641.496099999,-883312.183800001 136744.2009,-883567.236500001 134978.387700001,-883268.2369 134859.253699999,-882969.8869 134740.2016,-882832.622199999 134477.689200001,-882617.332699999 133803.8114,-882102.996300001 132145.602299999,-881968.4175 131832.657,-881729.2895 131563.9354,-881380.5469 131442.1121,-881135.7642 131275.1522,-880648.932700001 130890.807,-880819.038899999 130595.599300001,-881035.9889 130353.5963,-881509.634199999 130075.569499999,-881936.479599999 129744.363399999,-882123.4981 129144.3751,-882192.5393 128843.0372,-882025.1153 128222.5222,-881839.510399999 127906.6768,-881538.0656 127838.5485,-881129.890900001 127865.603800001,-880616.401 127937.694800001,-880374.9497 127719.955399999,-880099.931299999 127195.0175,-880028.568700001 126682.068399999,-879563.9399 125026.900699999,-879115.3749 123983.2786,-878683.0272 123551.2005,-878241.002699999 123271.1995,-877757.6117 122836.292,-877825.882099999 122534.420700001,-877903.0264 122081.274900001,-877870.0375 120908.967599999,-877224.6482 120617.1656,-875811.7007 119517.5812,-875501.752 119601.022700001,-875122.977700001 119986.2993,-874020.7444 121448.989600001,-872786.479800001 122548.1558,-872473.928 122682.587,-871065.591 123262.524700001,-870662.045299999 123239.0101,-870323.1117 122914.0831,-869054.011499999 121975.435799999,-867726.2466 121186.0222,-866635.4934 120715.9757,-866279.5098 120695.135199999,-865869.849400001 120722.386399999,-865346.1833 120997.313899999,-863959.1686 122087.1503,-862853.905099999 122735.6237,-862558.2676 122566.080399999,-861897.827500001 121662.574899999,-861498.2733 121537.615,-861137.6776 121618.399800001,-860648.216 121284.5594,-860274.541 120703.227499999,-860142.9438 120339.4738,-860023.292 119772.766899999,-859863.386299999 118135.2323,-859810.624600001 116401.892100001,-859890.7481 115897.8353,-860170.839299999 115456.007099999,-860543.6294 115172.2247,-861837.0659 113924.042400001,-861959.6251 113575.35,-862637.0845 111528.2952,-863211.821 110390.9352,-863480.872500001 110152.239800001,-864637.7127 108641.953400001,-864704.8013 108340.3278,-864681.164899999 107880.8267,-864518.0942 106294.004899999,-864153.363399999 104695.4484,-863797.081599999 102944.7665,-863432.596 101346.311,-863204.522399999 100874.8215,-862236.742699999 99139.6262,-861306.4241 97609.7084,-860694.1346 95895.250399999,-860669.4399 95435.6918,-860411.922 93741.645,-859812.842399999 91773.3497,-858991.896199999 90147.8089,-857910.249299999 88609.5668,-857829.5371 88249.0956,-857737.797900001 87378.516,-857947.092499999 87005.271299999,-858090.365 86643.635299999,-858490.3369 86506.0645,-858791.321599999 86574.413799999,-859096.2588 86592.032,-859403.831900001 86558.7817,-860066.7753 86546.741599999,-860382.238500001 86361.314,-861944.571 85739.275699999,-862343.911900001 85864.475,-863782.561799999 86507.4612,-864080.2421 86626.3877,-864796.4549 86566.1457,-865324.6362 86240.7298,-866660.3134 85147.7596,-867814.798900001 84553.0703,-868121.8511 84520.076,-869619.4463 84148.7993,-869940.6307 83861.9852,-870164.123600001 83518.8604,-871761.659399999 82288.3101,-872178.6569 82108.8715,-873709.365 81179.8377,-874022.022 81045.3132,-874382.5218 80964.4594,-874740.968 80934.566199999,-875620.4505 80679.702,-876038.945900001 80500.5995,-877615.629 79625.2546,-879133.9288 78899.168,-880746.2403 78279.6899,-882189.8728 77956.7673,-883895.5107 77495.761399999,-885408.1052 76870.7327,-885725.2499 76685.924,-885892.1657 76441.1241,-886368.7544 76112.647,-886717.275699999 76234.398399999,-887265.9497 76418.980799999,-889077.0031 75913.1251,-889394.479499999 75676.8774,-891020.954299999 74855.650599999,-892584.011399999 74233.8331,-894401.851 73575.831,-896317.608200001 73025.1667,-896615.56 73144.4178,-898219.2651 73542.522299999,-898631.772700001 73464.8828,-898892.729599999 73326.8794,-899406.4726 73255.148,-900334.9856 73054.9561,-900716.34 72618.770199999,-901079.2027 72487.225199999,-901590.243 72465.6453,-902047.086100001 72492.3609,-903469.885399999 72523.7621,-904125.6746 72612.8121,-904576.770300001 72740.9715,-905386.854 74568.7572,-905509.802100001 75084.621,-905877.030099999 75767.5359,-906205.852600001 76244.5307,-906450.832 76411.2445,-906842.4047 76688.7137,-907187.9199 76860.9186,-907067.0009 78075.6097,-906983.8607 78630.3517,-907040.8203 79397.0759,-907073.314 79704.3189,-907211.230900001 79966.3894,-907399.6588 80231.8736,-907570.0166 80801.1948,-907670.5255 82587.8413,-907651.745200001 82892.0262,-907634.9013 83196.854699999,-907411.002 83539.954299999,-907190.703199999 83832.2693,-907069.2446 84181.495,-907092.9562 84640.904899999,-907421.919399999 85118.0228,-908048.612400001 86579.0132,-908186.294 86841.525699999,-908482.0747 87011.365,-909039.996 87043.252699999,-909397.9472 87013.5196,-909583.2104 87329.4924,-909655.027100001 87842.421,-909924.3849 88468.8026,-910235.419600001 88384.8893,-911901.7106 87718.4044,-912459.5966 87750.5238,-914264.785800001 88211.4452,-914718.6306 88288.5221,-914961.7446 88455.342599999,-916389.997300001 89301.194,-916577.932399999 89566.4637,-917511.507200001 90129.4777,-918111.4823 90317.2574,-918523.6362 90239.3375,-919473.9537 89632.5748,-919742.874 89393.7335,-920243.5294 89524.537799999,-920535.4318 89744.7453,-921479.3091 91020.973099999,-922358.0054 92547.7463,-922642.0287 92920.3265,-922776.155099999 93233.516,-923774.1491 94461.529,-924105.478800001 94888.104699999,-924475.2366 95519.9403,-924401.8539 95923.0079,-924512.318700001 96641.8855,-924951.902899999 96972.687799999,-925756.1251 96255.5795,-926447.0504 94870.9266,-926945.441400001 94187.4514,-927835.033199999 92865.2761,-928053.025800001 92623.0952,-928631.3661 92300.6677,-928935.8379 92318.2488,-929768.7806 93740.5578,-929905.706599999 94003.0079,-930148.704600001 94220.6556,-930389.756 94437.661699999,-930840.881100001 94565.7075,-931142.1951 94634.225299999,-931616.543299999 94356.1739,-932025.6702 94329.360099999,-932974.9804 95503.6466,-933204.259400001 95923.8025,-933595.5064 96201.4174,-933763.088099999 95956.6654,-934066.164 95973.8615,-935827.0307 96330.6285,-936227.568600001 96455.384099999,-936859.5711 96949.9136,-936993.757300001 97263.4097,-937705.499500001 99034.408299999,-937890.823100001 99350.317399999,-939202.6513 99528.0221,-939507.540200001 99546.069599999,-939958.3884 99673.765799999,-940292.6043 100049.366800001,-941913.039899999 100194.391100001,-942321.4147 100167.1642,-942620.073899999 100286.179099999,-942909.963300001 100557.407500001,-943232.8454 101135.407299999,-943684.8506 102993.5211,-943252.769300001 103426.3607,-942130.110300001 104379.081700001,-941769.779300001 104408.7882,-941059.950300001 104367.9245,-939429.1457 104426.2018,-938956.7491 104653.2246,-938885.777100001 105005.3102,-938299.7985 107210.134400001,-937802.820699999 107893.996200001,-936600.126499999 108434.9783,-936383.5351 108676.6581,-936315.134299999 108977.8375,-936193.8212 109327.207,-936378.834100001 109643.5065,-936567.007300001 109908.532500001,-937513.091600001 111133.645500001,-938213.094799999 112242.555299999,-938044.880799999 112487.5655,-937776.525900001 112726.732899999,-936569.658 114234.1403,-936140.238 114616.349199999,-935920.649900001 114908.8937,-935328.3533 115485.1494,-934907.053400001 115715.137499999,-933604.5097 117115.5864,-932305.527799999 118464.9619,-931371.2929 118767.212200001,-930858.798599999 118839.4264,-930452.5865 118815.7183,-930050.1303 118741.249700001,-929751.3994 118622.6172,-929459.5548 118401.9344,-927898.3391 117242.847100001,-927543.1131 117222.0452,-926627.3846 117220.123600001,-926156.806700001 117447.105599999,-925840.3653 117632.555299999,-924656.8968 118734.4088,-924491.265699999 118979.068700001,-924061.387399999 119361.334799999,-922271.9748 120377.161900001,-920805.2268 121106.430400001,-920069.291 121521.6338,-919898.826199999 121817.0231,-919777.625399999 122166.558700001,-919750.4691 122622.589500001,-919593.713099999 123580.384099999,-919068.3686 123855.347899999,-918585.676899999 124285.276,-918587.7249 125099.5305,-918399.873 126615.3199,-917904.6077 127248.2257,-917687.0415 127489.749600001,-916526.5185 129051.134299999,-916460.1603 129352.622300001,-916203.5513 130253.6644,-915881.8379 130540.3665,-914367.5064 132080.9213,-914168.693700001 132883.905200001,-913928.636299999 134396.4663,-913761.5743 134641.1197,-912133.760500001 135513.648499999,-911858.3256 135853.812799999,-910966.317600001 137226.6931,-910170.633099999 138656.8159,-908958.331599999 140265.6932,-908638.925799999 140501.2436,-908321.773800001 140686.721100001,-906751.264699999 141460.658600001,-906389.9515 141541.5024,-905728.385 141554.267200001,-905334.6198 141327.851600001,-905101.5973 140958.350500001,-904796.347100001 140075.407400001,-904192.124399999 138208.322799999,-904009.858899999 137841.466399999,-903722.865499999 137519.4045,-903427.6906 137349.592900001,-903124.628799999 137281.303300001,-901164.897 136862.268,-899500.2952 136613.361199999,-898382.5085 136599.4318,-898120.6589 136737.161800001,-897941.8795 137184.679199999,-897768.9069 137530.8928,-897197.383 137752.112400001,-896894.3572 137683.6285,-895605.0375 137100.2711,-895309.713099999 136930.7524,-894119.093499999 136404.040200001,-894092.5086 136860.501800001,-893964.829299999 137311.082699999,-893763.1998 139029.3158,-893733.103800001 139536.148399999,-893353.088 139972.509500001,-893183.241699999 140267.951099999,-892966.101399999 140509.6302,-891715.9967 141862.3203,-891194.5251 142086.351500001,-889438.335200001 142544.225,-887851.3211 142706.849199999,-886076.6285 142603.8631,-885787.0689 142332.9487,-884527.123600001 141241.8575,-883742.2919 140738.5877))\r\n",
      "\r\n",
      "OGRFeature(HUC_Polygons):2\r\n",
      "  HUC (Integer) = 13010001\r\n",
      "  REG_NAME (String) = Rio Grande Region\r\n",
      "  SUB_NAME (String) = Rio Grande Headwaters\r\n",
      "  ACC_NAME (String) = Rio Grande Headwaters\r\n",
      "  CAT_NAME (String) = Rio Grande Headwaters. Colorado.\r\n",
      "  HUC2 (Integer) = 13\r\n",
      "  HUC4 (Integer) = 1301\r\n",
      "  HUC6 (Integer) = 130100\r\n",
      "  REG (Integer) = 13\r\n",
      "  SUB (Integer) = 1301\r\n",
      "  ACC (Integer) = 130100\r\n",
      "  CAT (Integer) = 13010001\r\n"
     ]
    }
   ],
   "source": [
    "!ogrinfo data/Hydrologic_Units/HUC_Polygons.shp HUC_Polygons | head -89 | tail -15"
   ]
  },
  {
   "cell_type": "markdown",
   "metadata": {},
   "source": [
    "This tells us that we want **HUC feature 2** (catchment 13010001).\n",
    "\n"
   ]
  },
  {
   "cell_type": "markdown",
   "metadata": {},
   "source": [
    "We can produce a mask with `raster_mask`, but in this case, we need to use a function `raster_mask2`:"
   ]
  },
  {
   "cell_type": "code",
   "execution_count": 21,
   "metadata": {
    "ExecuteTime": {
     "end_time": "2017-11-21T19:48:59.114814Z",
     "start_time": "2017-11-21T19:48:59.100025Z"
    }
   },
   "outputs": [],
   "source": [
    "import sys\n",
    "sys.path.insert(0,'python')\n",
    "\n",
    "from raster_mask import *"
   ]
  },
  {
   "cell_type": "code",
   "execution_count": 22,
   "metadata": {
    "ExecuteTime": {
     "end_time": "2017-11-21T19:48:59.914586Z",
     "start_time": "2017-11-21T19:48:59.878368Z"
    }
   },
   "outputs": [],
   "source": [
    "m = raster_mask2(fname,\\\n",
    "                target_vector_file=\"data/Hydrologic_Units/HUC_Polygons.shp\",\\\n",
    "                attribute_filter=2)\n"
   ]
  },
  {
   "cell_type": "code",
   "execution_count": 23,
   "metadata": {
    "ExecuteTime": {
     "end_time": "2017-11-21T19:49:01.620951Z",
     "start_time": "2017-11-21T19:49:00.991945Z"
    }
   },
   "outputs": [
    {
     "data": {
      "text/plain": [
       "<matplotlib.colorbar.Colorbar at 0x7ff20aa9c3d0>"
      ]
     },
     "execution_count": 23,
     "metadata": {},
     "output_type": "execute_result"
    },
    {
     "data": {
      "image/png": "[encoded data removed]",
      "text/plain": [
       "<matplotlib.figure.Figure at 0x7ff1f1ede710>"
      ]
     },
     "metadata": {},
     "output_type": "display_data"
    }
   ],
   "source": [
    "plt.imshow(m)\n",
    "plt.colorbar()"
   ]
  },
  {
   "cell_type": "markdown",
   "metadata": {},
   "source": [
    "The catchment is only a very small portion of the dataset, so you should make sure that you perform masking when you read the dataset in and only extract the area of data that you want."
   ]
  },
  {
   "cell_type": "markdown",
   "metadata": {},
   "source": [
    "#### 6.2.3.3 Discharge Data"
   ]
  },
  {
   "cell_type": "markdown",
   "metadata": {},
   "source": [
    "The river discharge data are in the file [`data/delnorte.dat`](data/delnorte.dat).\n",
    "\n",
    "If you examine the file:"
   ]
  },
  {
   "cell_type": "code",
   "execution_count": 24,
   "metadata": {
    "ExecuteTime": {
     "end_time": "2017-11-21T19:49:05.691097Z",
     "start_time": "2017-11-21T19:49:05.567229Z"
    }
   },
   "outputs": [
    {
     "name": "stdout",
     "output_type": "stream",
     "text": [
      "# ---------------------------------- WARNING ----------------------------------------\r\n",
      "# Provisional data are subject to revision. Go to\r\n",
      "# http://help.waterdata.usgs.gov/policies/provisional-data-statement for more information.\r\n",
      "#\r\n",
      "# File-format description:  http://help.waterdata.usgs.gov/faq/about-tab-delimited-output\r\n",
      "# Automated-retrieval info: http://help.waterdata.usgs.gov/faq/automated-retrievals\r\n",
      "#\r\n",
      "# Contact:   gs-w_support_nwisweb@usgs.gov\r\n",
      "# retrieved: 2016-11-02 04:17:13 -04:00\t(natwebsdas01)\r\n",
      "#\r\n",
      "# Data for the following 1 site(s) are contained in this file\r\n",
      "#    USGS 08220000 RIO GRANDE NEAR DEL NORTE, CO\r\n",
      "# -----------------------------------------------------------------------------------\r\n",
      "#\r\n",
      "# TS_ID - An internal number representing a time series.\r\n",
      "# IV_TS_ID - An internal number representing the Instantaneous Value time series from which the daily statistic is calculated.\r\n",
      "#\r\n",
      "# Data provided for site 08220000\r\n",
      "#    TS_ID       Parameter    Statistic  IV_TS_ID       Description\r\n",
      "#    18268       00060        00003      -1             Discharge, cubic feet per second (Mean)\r\n",
      "#\r\n",
      "# Data-value qualification codes included in this output:\r\n",
      "#     A  Approved for publication -- Processing and review completed.\r\n",
      "#     e  Value has been edited or estimated by USGS personnel and is write protected.\r\n",
      "#\r\n",
      "agency_cd\tsite_no\tdatetime\t18268_00060_00003\t18268_00060_00003_cd\r\n",
      "5s\t15s\t20d\t14n\t10s\r\n",
      "USGS\t08220000\t2001-01-01\t160\tA:e\r\n",
      "USGS\t08220000\t2001-01-02\t160\tA:e\r\n",
      "USGS\t08220000\t2001-01-03\t160\tA:e\r\n",
      "USGS\t08220000\t2001-01-04\t160\tA:e\r\n",
      "USGS\t08220000\t2001-01-05\t160\tA:e\r\n",
      "USGS\t08220000\t2001-01-06\t160\tA:e\r\n",
      "USGS\t08220000\t2001-01-07\t160\tA:e\r\n",
      "USGS\t08220000\t2001-01-08\t140\tA:e\r\n"
     ]
    }
   ],
   "source": [
    "!head -35 < data/delnorte.dat"
   ]
  },
  {
   "cell_type": "markdown",
   "metadata": {},
   "source": [
    "you will see comment lines that start with `#`, followed by data lines.\n",
    "\n",
    "The easiest way to read these data would be to use:\n",
    "\n"
   ]
  },
  {
   "cell_type": "code",
   "execution_count": 25,
   "metadata": {
    "ExecuteTime": {
     "end_time": "2017-11-21T19:49:08.673996Z",
     "start_time": "2017-11-21T19:49:08.431385Z"
    }
   },
   "outputs": [],
   "source": [
    "file = 'data/delnorte.dat'\n",
    "data = np.loadtxt(file,usecols=(2,3),unpack=True,dtype=str)"
   ]
  },
  {
   "cell_type": "code",
   "execution_count": 26,
   "metadata": {
    "ExecuteTime": {
     "end_time": "2017-11-21T19:49:09.732879Z",
     "start_time": "2017-11-21T19:49:09.727714Z"
    }
   },
   "outputs": [
    {
     "name": "stdout",
     "output_type": "stream",
     "text": [
      "['datetime' '20d' '2001-01-01' ..., '2015-12-29' '2015-12-30' '2015-12-31']\n",
      "['18268_00060_00003' '14n' '160' ..., '170' '170' '165']\n"
     ]
    }
   ],
   "source": [
    "# so you have the dates in\n",
    "print data[0]\n",
    "# and data in \n",
    "print data[1]\n",
    "# but the data start in column 3 so use [2:]"
   ]
  },
  {
   "cell_type": "code",
   "execution_count": 27,
   "metadata": {
    "ExecuteTime": {
     "end_time": "2017-11-21T19:49:12.870482Z",
     "start_time": "2017-11-21T19:49:12.612144Z"
    }
   },
   "outputs": [
    {
     "data": {
      "text/plain": [
       "[<matplotlib.lines.Line2D at 0x7ff1f0cfbc10>]"
      ]
     },
     "execution_count": 27,
     "metadata": {},
     "output_type": "execute_result"
    },
    {
     "data": {
      "image/png": "[encoded data removed]",
      "text/plain": [
       "<matplotlib.figure.Figure at 0x7ff1f0d82fd0>"
      ]
     },
     "metadata": {},
     "output_type": "display_data"
    }
   ],
   "source": [
    "# and the stream flow in data[1][2:]\n",
    "plt.plot(data[1][2:].astype(float))"
   ]
  },
  {
   "cell_type": "markdown",
   "metadata": {},
   "source": [
    "You will need to convert the date field (i.e. the data in `data[0]`) into the day of year.\n",
    "\n",
    "This is readily accomplished using `datetime`:"
   ]
  },
  {
   "cell_type": "code",
   "execution_count": 28,
   "metadata": {
    "ExecuteTime": {
     "end_time": "2017-11-21T19:49:14.666606Z",
     "start_time": "2017-11-21T19:49:14.657622Z"
    }
   },
   "outputs": [
    {
     "name": "stdout",
     "output_type": "stream",
     "text": [
      "[2001    1    1]\n",
      "2001 001\n"
     ]
    }
   ],
   "source": [
    "import datetime\n",
    "# transform the first one, which is data[0][2:]\n",
    "\n",
    "ds = np.array(data[0][2].split('-')).astype(int)\n",
    "print ds\n",
    "year,doy = datetime.datetime(ds[0],ds[1],ds[2]).strftime('%Y %j').split()\n",
    "print year,doy"
   ]
  },
  {
   "cell_type": "markdown",
   "metadata": {},
   "source": [
    "#### 6.2.3.4 Temperature data"
   ]
  },
  {
   "cell_type": "markdown",
   "metadata": {},
   "source": [
    "We can directly access temperature data from [here](http://ccc.atmos.colostate.edu/cgi-bin/dlydb.pl?yrbeg=2000&yrend=2020&station=52184+DEL+NORTE&proc=2+-+List+Format+%28see+docs%29).\n",
    "\n",
    "The format of [`delNorteT.dat`](files/data/delNorteT.dat) is given here.\n",
    "\n",
    "The first three fields are date fields (`YEAR`, `MONTH` and `DAY`), followed by `TMAX`, `TMIN`, `PRCP`, `SNOW`, `SNDP`.\n",
    "\n",
    "You should read in the temperature data for the days and years that you want. \n",
    "\n",
    "For temperature, you might take a **mean of TMAX and TMIN**. \n",
    "\n",
    "**Note that these are in Fahrenheit. You should convert them to Celcius.**\n",
    "\n",
    "Note also that there are missing data (values `9998` and `9999`). You will need to filter these and interpolate the data in some way. A median might be a good approach, but any interpolation will suffice.\n",
    "\n",
    "With that processing then, you should have a dataset, Temperature that will look something like (in cyan, for the year 2005):\n",
    "\n",
    "![](files/images/temperature.png)"
   ]
  },
  {
   "cell_type": "markdown",
   "metadata": {},
   "source": [
    "## 6.3 Coursework"
   ]
  },
  {
   "cell_type": "markdown",
   "metadata": {},
   "source": [
    "You need to submit you coursework in the usual manner by the usual submission date.\n",
    "\n",
    "You **must** work individually on this task. If you do not, it will be treated as plagiarism. By reading these instructions for this exercise, we assume that you are aware of the UCL rules on plagiarism. You can find more information on this matter in your student handbook. If in doubt about what might constitute plagiarism, ask one of the course convenors.\n",
    "\n",
    "### 6.3.1 Summary of coursework requirements\n",
    "\n",
    "- **Data Preparation**\n",
    "  \n",
    "     The first task you must complete is to produce a dataset of the proportion of HUC catchment 13010001 (Rio Grande headwaters in Colorado, USA) that is covered by snow for **two consecutive years**, along with associated datasets on temperature (in C) and river discharge at the Del Norte monitoring station. \n",
    "    \n",
    "    You **may not** use data from the year 2005, as this is given to you in the illustrations above.\n",
    "\n",
    "    The dataset you produce must have a value for the mean snow cover, temperature and discharge in the catchment for every day over each year.\n",
    "\n",
    "    Your write up **must** include fully labelled graph(s) of snow cover, temperature and discharge for the catchment for each year (with units as appropriate), along with some summary statistics (e.g. mean or median, minimum, maximum, and the timing of these). \n",
    "    \n",
    "    You **must** provide evidence of how you got these data (i.e. the code and commands you ran to produce the data).\n",
    "    \n",
    "    \n",
    "    \n",
    "- **Modelling**\n",
    "\n",
    "    You will have prepared two years of data above. Use one of these years to calibrate the (snowmelt) hydrological model (described below) and one year to test it. \n",
    "    \n",
    "    The model parameter estimate *must* be objective (i.e. you can't just arbitrarily choose a set) and ideally optimal, and you *must* state the equation of the cost function you will try to minimise and explain the approach used.\n",
    "    \n",
    "    You **must** state the values of the model parameters that you have estimated and show evidence for how you went about calculating them. Ideally, you should also state the uncertainty in these parameter estimates (not critical to pass this section though).\n",
    "    \n",
    "    You **must** quantify the goodness of fit between your measured flow data and that produced by your model, booth for the calibration exercise and the validation.\n",
    "    "
   ]
  },
  {
   "cell_type": "markdown",
   "metadata": {},
   "source": [
    "### 6.3.2 Summary of Advice"
   ]
  },
  {
   "cell_type": "markdown",
   "metadata": {},
   "source": [
    "The first task involves pulling datasets from different sources. No individual part of that should be too difficult, but you must put this together from the material we have done so far. It is more a question of organisation then.\n",
    "\n",
    "Perhaps think first about where you want to end up with on this (the 'output'). This might for example be a dictionary with keys `temp`, `doy`, `snow` and `flow`, where each of these would be an array with 365 values (or 366 in a leap year).\n",
    "\n",
    "Then consider the datasets you have: these are: (i) a stack of MODIS data with daily observations; (ii) temperature data in a file; (iii) flow data in a file.\n",
    "\n",
    "It might be a little fiddly getting the data you want from the flow and temperature data files, but its not very complicated. You will need to consider flagging invalid observations and perhaps interpolating between these.\n",
    "\n",
    "Processing the MODIS data might take a little more thought, but it is much the same process. Again, we read the datasets in, trying to make this efficient on data size by only using the area of the vector data mask as in a previous exercise. The data reading will be very similar to reading the MODIS LAI product, but you need to work out and implement what changes are necessary. As advised abovem you should use the `raster_mask2()` function for creating the spatial data masks. Again, you will need to interpolate or perhaps smooth between observations, and then process the snow cover proportions to get an average over the catchment.\n",
    "\n",
    "\n",
    "The second task revolves around using the model that we have developed above in the function `model_accum()`. You have been through previous examples in Python where you attempt to estimate some model parameters given an initial estimate of the parameters and some cost function to be minimised. Solving the model calibration part of problem should follow those same lines then. Testing (validation) should be easy enough. Don't forget to include the estimated parameters (and other relevant information, e.g. your initial estimate, uncertainties if available) in your write up.\n",
    "\n",
    "There is quite a lot of data presentation here, and you need to provide *evidence* that you have done the task. Make sure you use images (e.g. of snow cover varying), graphs (e.g. modelled and predicted flow, etc.), and tables (e.g. model parameter estimates) throughout, as appropriate.\n",
    "\n",
    "If, for some reason, you are unable to complete the first part of the practical, you should submit what you can for that first part, and continue with calibrating the model using the 2005 dataset that we used above. This would be far from ideal as you would not have completed the required elements for either part in that case, but it would generall be better than not submitting anything."
   ]
  },
  {
   "cell_type": "markdown",
   "metadata": {},
   "source": [
    "### 6.3.3 Further advice"
   ]
  },
  {
   "cell_type": "markdown",
   "metadata": {},
   "source": [
    "There is plenty of scope here for going beyond the basic requirements, if you get time and are interested (and/or want a higher mark!).\n",
    "\n",
    "You will be given credit for all additional work included in the write up, **once you have achieved the basic requirements**. So, there is no point (i.e. you will not get credit for) going off on all sorts of interesting lines of exploration here *unless* you have first completed the core task."
   ]
  },
  {
   "cell_type": "markdown",
   "metadata": {},
   "source": [
    "### 6.3.4 Structure of the Report"
   ]
  },
  {
   "cell_type": "markdown",
   "metadata": {},
   "source": [
    "The required elements of the report are:\n",
    "\n",
    "```\n",
    "\n",
    "    Introduction (5%)\n",
    "    Data Preparation (45%)\n",
    "    Modelling (45%)\n",
    "    Discussion/Conclusions (5%)\n",
    "```\n",
    "\n",
    "The figures in brackets indicate the percentage of marks that we will award for each section of the report.\n",
    "\n",
    "#### Introduction (5%)\n",
    "\n",
    "This should be of around 2-3 pages.\n",
    "\n",
    "It should introduce the purpose of the study, being at a base level, ‘to build and calibrate a snow/hydrological model in Python’.\n",
    "\n",
    "It should provide some background to building models of this sort (their purpose/role) and include some review of the types of models that might be built, with reference to the literature (journals).\n",
    "\n",
    "A pass mark for this section will describe and explain the purpose of the study and examine some of the context to such modelling, with appropriate literature being cited. Higher or lower marks will depend on the depth that this goes into and the clarity of expression.\n",
    "\n",
    "\n",
    "#### Data Preparation (45%)\n",
    "\n",
    "This should contain around 3-4 pages of text, other than codes, figures and tables.\n",
    "\n",
    "For a pass mark in this section, you must :\n",
    "\n",
    "- introduce the study site, giving general site characteristics, with appropriate figures. \n",
    "- provide an overview of the data used in the study (snow cover, temperature, flow data) and produce visualisations of the data you are using (images, graphs, tables as appropriate) alongside appropriate summary statistics.\n",
    "- fully demonstrate how you got these data to this point of processing -- i.e. submit appropriate Python codes and/or unix commands that when run in the sequence you describe would produce the data you have described.\n",
    "\n",
    "The weighting here on the study site description is 5% and on the rest, 40%.\n",
    "\n",
    "You can obtain higher marks here by going beyond the basics in your approaches to the data or modelling. You still need to demonstrate that you have done the core 'pass' material.\n",
    "\n",
    "\n",
    "#### Modelling\n",
    "\n",
    "This should contain around 3-4 pages of text, other than codes, figures and tables.\n",
    "\n",
    "For a pass mark in this section, you must :\n",
    "\n",
    "- provide an overview of the model that is constructed here, explaining the role of each parameter.\n",
    "- explain the way in which model calibration and validation is to be undertaken.\n",
    "- provide an overview of results of the calibration and validation along with relevant visualisations (images, graphs, tables as appropriate).\n",
    "- fully demonstrate how you got these results -- i.e. submit appropriate Python codes and/or unix commands that when run in the sequence you describe would produce the results you have described.\n",
    "\n",
    "The weighting here is 5% for the model description and on the rest, 40%.\n",
    "\n",
    "For a mildly improved mark, you should examine and discuss the model assumptions in the context of any modelling literature you looked at in the Introduction. For a significantly improved mark, you could try improving the model. \n",
    "\n",
    "#### Discussion and Conclusions\n",
    "\n",
    "This section should be around 2 pages. It should provide a discussion and analysis of your results and you should draw appropriate conclusions from these.\n",
    "\n",
    "You can also use this section to critique the model/data/methods, and suggest ways that you would improve things. If you do this, you must give some indication of how that would be achieved. You will get no credit for simply saying ‘next time I would make the code more efficient’, for example.\n",
    "\n",
    "Very good/excellent marks would normally require you to cite appropriate literature.\n",
    "\n",
    "A sufficient effort for a pass would make a reasonable effort at discussing these results in the context of some literature and draw a few (non trivial) conclusions from the study."
   ]
  },
  {
   "cell_type": "markdown",
   "metadata": {},
   "source": [
    "### 6.3.5 Computer Code"
   ]
  },
  {
   "cell_type": "markdown",
   "metadata": {},
   "source": [
    "#### General requirements\n",
    "\n",
    "You will obviously need to submit computer codes as part of this assessment. Some flexibility in the style of these codes is to be expected. For example, some might write a class that encompasses the functionality for all tasks. Some poeple might have multiple versions of codes with different functionality. All of these, and other reasonable variations are allowed.\n",
    "\n",
    "All codes needed to demonstrate that you have performed the core tasks are required to be included in the submission. You should include all codes that you make use of in the main body of the text in the main body. Any other codes that you want to refer to (e.g. something you tried out as an enhancement and didn’t quite get there) you can include in appendices.\n",
    "\n",
    "All codes should be well-commented. Part of the marks you get for code will depend on the adequacy of the commenting.\n",
    "\n",
    "#### Degree of original work required and plagiarism\n",
    "\n",
    "If you use a piece of code verbatim that you have taken from the course pages or any other source, **you must acknowledge this** in comments in your text. **Not to do so is plagiarism**. Where you have taken some part (e.g. a few lines) of someone else’s code, **you should also indicate this**. If some of your code is heavily based on code from elsewhere, **you must also indicate that**.\n",
    "\n",
    "Some examples. You may recognise this snippet of code from above.\n",
    "\n",
    "The first example is guilty of strong plagiarism, it does not seek to acknowledge the source of this code, even though it is just a direct copy, pasted into a method called `model()`:"
   ]
  },
  {
   "cell_type": "code",
   "execution_count": 29,
   "metadata": {
    "ExecuteTime": {
     "end_time": "2017-11-21T19:49:29.355926Z",
     "start_time": "2017-11-21T19:49:29.345443Z"
    }
   },
   "outputs": [],
   "source": [
    "def model(tempThresh=9.0,K=2000.0,p=0.96):\n",
    "    '''need to comment this further ...\n",
    "\n",
    "    '''\n",
    "    import numpy as np\n",
    "    meltDays = np.where(temperature > tempThresh)[0]\n",
    "    accum = snowProportion*0.\n",
    "    for d in meltDays:\n",
    "        water = K * snowProportion[d]\n",
    "        n = np.arange(len(snowProportion)) - d\n",
    "        m = p ** n\n",
    "        m[np.where(n<0)]=0\n",
    "        accum += m * water\n",
    "    return accum"
   ]
  },
  {
   "cell_type": "markdown",
   "metadata": {},
   "source": [
    "This is **not** acceptable.\n",
    "\n",
    "This should probably be something along the lines of:"
   ]
  },
  {
   "cell_type": "code",
   "execution_count": 29,
   "metadata": {},
   "outputs": [],
   "source": [
    "def model(tempThresh=9.0,K=2000.0,p=0.96):\n",
    "    '''need to comment this further ...\n",
    "\n",
    "    This code is taken directly from\n",
    "    \"Modelling delay in a hydrological network\"\n",
    "    by P. Lewis http://www2.geog.ucl.ac.uk/~plewis/geogg122/DelNorte.html\n",
    "    and wrapped into a method.\n",
    "    '''\n",
    "    # my code: make sure numpy is imported\n",
    "    import numpy as np\n",
    "\n",
    "    # code below verbatim from Lewis\n",
    "    meltDays = np.where(temperature > tempThresh)[0]\n",
    "    accum = snowProportion*0.\n",
    "    for d in meltDays:\n",
    "        water = K * snowProportion[d]\n",
    "        n = np.arange(len(snowProportion)) - d\n",
    "        m = p ** n\n",
    "        m[np.where(n<0)]=0\n",
    "        accum += m * water\n",
    "    # my code: return accumulator\n",
    "    return accum"
   ]
  },
  {
   "cell_type": "markdown",
   "metadata": {},
   "source": [
    "Now, we acknowledge that this is in essence a direct copy of someone else’s code, and clearly state this. We do also show that we have added some new lines to the code, and that we have wrapped this into a method.\n",
    "\n",
    "In the next example, we have seen that the way m is generated is in fact rather inefficient, and have re-structured the code. It is partially developed from the original code, and acknowledges this:"
   ]
  },
  {
   "cell_type": "code",
   "execution_count": 30,
   "metadata": {
    "ExecuteTime": {
     "end_time": "2017-11-21T19:49:32.108956Z",
     "start_time": "2017-11-21T19:49:32.097823Z"
    }
   },
   "outputs": [],
   "source": [
    "def model(tempThresh=9.0,K=2000.0,p=0.96):\n",
    "    '''need to comment this further ...\n",
    "\n",
    "    This code after the model developed in\n",
    "    \"Modelling delay in a hydrological network\"\n",
    "    by P. Lewis\n",
    "    http://www2.geog.ucl.ac.uk/~plewis/geogg122/DelNorte.html\n",
    "\n",
    "    My modifications have been to make the filtering more efficient.\n",
    "    '''\n",
    "    # my code: make sure numpy is imported\n",
    "    import numpy as np\n",
    "\n",
    "    # code below verbatim from Lewis unless otherwise indicated\n",
    "    meltDays = np.where(temperature > tempThresh)[0]\n",
    "    accum = snowProportion*0.\n",
    "\n",
    "    # my code: pull the filter block out of the loop\n",
    "    n = np.arange(len(snowProportion))\n",
    "    m = p ** n\n",
    "\n",
    "    for d in meltDays:\n",
    "        water = K * snowProportion[d]\n",
    "\n",
    "        # my code: shift the filter on by one day\n",
    "        # ...do something clever to shift it on by one day\n",
    "\n",
    "        accum += m * water\n",
    "    # my code: return accumulator\n",
    "    return accum"
   ]
  },
  {
   "cell_type": "markdown",
   "metadata": {},
   "source": [
    "This example makes it clear that significant modifications have been made to the code structure (and probably to its efficiency) although the basic model and looping comes from an existing piece of code. It clearly highlights what the actual modifications have been. Note that this is not a working example!!\n",
    "\n",
    "Although you are supposed to do this piece of work on your own, there might be some circumstances under which someone has significantly helped you to develop the code (e.g. written the main part of it for you & you’ve just copied that with some minor modifications). You **must** acknowledge in your code comments if this has happened. On the whole though, this should not occur, as you **must** complete this work on your own.\n",
    "\n",
    "If you take a piece of code from somewhere else and all you do is change the variable names and/or other cosmetic changes, you **must** acknowledge the source of the original code (with a URL if available).\n",
    "\n",
    "Plagiarism in coding is a tricky issue. One reason for that is that often the best way to learn something like this is to find an example that someone else has written and adapt that to your purposes. Equally, if someone has written some tool/library to do what you want to do, it would generally not be worthwhile for you to write your own but to concentrate on using that to achieve something new. Even in general code writing (i.e. when not submitting it as part of your assessment) you and anyone else who ever has to read your code would find it of value to make reference to where you found the material to base what you did on. The key issue to bear in mind in this work, as it is submitted ‘as your own work’ is that, to avoid being accused of plagiarism and to allow a fair assessment of what you have done, you must clearly acknowledge which parts of it are your own, and the degree to which you could claim them to be your own.\n",
    "\n",
    "For example, based on ... is absolutely fine, and you would certainly be given credit for what you have done. In many circumstances ‘taken verbatim from ...’ would also be fine (provided it is acknowledged) but then you would be given credit for what you had done with the code that you had taken from elsewhere (e.g. you find some elegant way of doing the graphs that someone has written and you make use of it for presenting your results).\n",
    "\n",
    "The difference between what you submit here and the code you might write if this were not a piece submitted for assessment is that you the vast majority of the credit you will gain for the code will be based on the degree to which you demonstrate that you can write code to achieve the required tasks. There would obviously be some credit for taking codes from the coursenotes and bolting them together into something that achieves the overall aim: provided that worked, and you had commented it adequately and acknowledge what the extent of your efforts had been, you should be able to achieve a pass in that component of the work. If there was no original input other than vbolting pieces of existing code together though, you be unlikely to achieve more than a pass. If you get less than a pass in another component of the coursework, that then puts you in danger of an overall fail.\n",
    "\n",
    "Provided you achieve the core tasks, the more original work that you do/show (that is of good quality), the higher the mark you will get. Once you have achieved the core tasks, even if you try something and don’t quite achieve it, is is probably worth including, as you may get marks for what you have done (or that fact that it was a good or interesting thing to try to do)."
   ]
  },
  {
   "cell_type": "markdown",
   "metadata": {},
   "source": [
    "#### Documentation\n",
    "\n",
    "Note: All methods/functions and classes must be documented for the code to be adequate. Generally, this will contain:\n",
    "\n",
    "   - some text on the purpose of the method (/function/class)\n",
    "\n",
    "   - some text describing the inputs and outputs, including reference to any relevant details such as datatype, shape etc where such things are of relevance to understanding the code.\n",
    "\n",
    "   - some text on keywords, e.g.:"
   ]
  },
  {
   "cell_type": "code",
   "execution_count": 31,
   "metadata": {
    "ExecuteTime": {
     "end_time": "2017-11-21T19:49:34.566235Z",
     "start_time": "2017-11-21T19:49:34.557952Z"
    }
   },
   "outputs": [],
   "source": [
    "def complex(real=0.0, imag=0.0):\n",
    "    \"\"\"Form a complex number.\n",
    "\n",
    "    Keyword arguments:\n",
    "    real -- the real part (default 0.0)\n",
    "    imag -- the imaginary part (default 0.0)\n",
    "\n",
    "    Example taken verbatim from:\n",
    "    http://www.python.org/dev/peps/pep-0257/\n",
    "    \"\"\"\n",
    "    if imag == 0.0 and real == 0.0: return complex_zero\n"
   ]
  },
  {
   "cell_type": "markdown",
   "metadata": {},
   "source": [
    "You should look at the [document on good docstring conventions](http://www.python.org/dev/peps/pep-0257/) when considering how to document methods, classes etc.\n",
    "\n",
    "To demonstrate your documentation, you **must** include the help text generated by your code after you include the code. e.g.:"
   ]
  },
  {
   "cell_type": "code",
   "execution_count": 32,
   "metadata": {
    "ExecuteTime": {
     "end_time": "2017-11-21T19:49:36.343661Z",
     "start_time": "2017-11-21T19:49:36.337210Z"
    }
   },
   "outputs": [],
   "source": [
    "def print_something(this,stderr=False):\n",
    "    '''This does something.\n",
    "\n",
    "    Keyword arguments:\n",
    "    stderr -- set to True to print to stderr (default False)\n",
    "    '''\n",
    "\n",
    "    if stderr:\n",
    "        # import sys.stderr\n",
    "        from sys import stderr\n",
    "\n",
    "        # print to stderr channel, converting this to str\n",
    "        print >> stderr,str(this)\n",
    "\n",
    "        # job done, return\n",
    "        return\n",
    "\n",
    "    # print to stdout, converting this to str\n",
    "    print str(this)\n",
    "\n",
    "    return\n"
   ]
  },
  {
   "cell_type": "markdown",
   "metadata": {},
   "source": [
    "Then the help text would be:"
   ]
  },
  {
   "cell_type": "code",
   "execution_count": 33,
   "metadata": {
    "ExecuteTime": {
     "end_time": "2017-11-21T19:49:37.654141Z",
     "start_time": "2017-11-21T19:49:37.649675Z"
    }
   },
   "outputs": [
    {
     "name": "stdout",
     "output_type": "stream",
     "text": [
      "Help on function print_something in module __main__:\n",
      "\n",
      "print_something(this, stderr=False)\n",
      "    This does something.\n",
      "    \n",
      "    Keyword arguments:\n",
      "    stderr -- set to True to print to stderr (default False)\n",
      "\n"
     ]
    }
   ],
   "source": [
    "help(print_something)"
   ]
  },
  {
   "cell_type": "markdown",
   "metadata": {},
   "source": [
    "The above example represents a ‘good’ level of commenting as the code broadly adheres to the style suggestions and most of the major features are covered. It is not quite ‘very good/excellent’ as the description of the purpose of the method (rather important) is trivial and it fails to describe the input this in any way. An excellent piece would do all of these things, and might well tell us about any dependencies (e.g. requires sys if stderr set to True).\n",
    "\n",
    "An inadequate example would be:"
   ]
  },
  {
   "cell_type": "code",
   "execution_count": 34,
   "metadata": {
    "ExecuteTime": {
     "end_time": "2017-11-21T19:49:39.641877Z",
     "start_time": "2017-11-21T19:49:39.635030Z"
    }
   },
   "outputs": [],
   "source": [
    "def print_something(this,stderr=False):\n",
    "    '''This prints something'''\n",
    "    if stderr:\n",
    "        from sys import stderr\n",
    "        print >> stderr,str(this)\n",
    "        return\n",
    "    print str(this)"
   ]
  },
  {
   "cell_type": "markdown",
   "metadata": {},
   "source": [
    "It is inadequate because it still only has a trivial description of the purpose of the method, it tells us nothing about inputs/outputs and there is no commenting inside the method."
   ]
  },
  {
   "cell_type": "markdown",
   "metadata": {},
   "source": [
    "#### Word limit\n",
    "\n",
    "There is no word limit per se on the computer codes, though as with all writing, you should try to be succint rather than overly verbose.\n",
    "\n",
    "#### Code style\n",
    "\n",
    "A good to excellent piece of code would take into account issues raised in the [style guide](http://www.python.org/dev/peps/pep-0008/). The ‘degree of excellence’ would depend on how well you take those points on board."
   ]
  }
 ],
 "metadata": {
  "kernelspec": {
   "display_name": "Python 3",
   "language": "python",
   "name": "python3"
  },
  "language_info": {
   "codemirror_mode": {
    "name": "ipython",
    "version": 3
   },
   "file_extension": ".py",
   "mimetype": "text/x-python",
   "name": "python",
   "nbconvert_exporter": "python",
   "pygments_lexer": "ipython3",
   "version": "3.7.10"
  },
  "latex_envs": {
   "LaTeX_envs_menu_present": true,
   "autocomplete": true,
   "bibliofile": "biblio.bib",
   "cite_by": "apalike",
   "current_citInitial": 1,
   "eqLabelWithNumbers": true,
   "eqNumInitial": 0,
   "hotkeys": {
    "equation": "Ctrl-E",
    "itemize": "Ctrl-I"
   },
   "labels_anchors": false,
   "latex_user_defs": false,
   "report_style_numbering": false,
   "user_envs_cfg": false
  },
  "toc": {
   "nav_menu": {},
   "number_sections": true,
   "sideBar": true,
   "skip_h1_title": true,
   "toc_cell": true,
   "toc_position": {},
   "toc_section_display": "block",
   "toc_window_display": false
  },
  "varInspector": {
   "cols": {
    "lenName": 16,
    "lenType": 16,
    "lenVar": 40
   },
   "kernels_config": {
    "python": {
     "delete_cmd_postfix": "",
     "delete_cmd_prefix": "del ",
     "library": "var_list.py",
     "varRefreshCmd": "print(var_dic_list())"
    },
    "r": {
     "delete_cmd_postfix": ") ",
     "delete_cmd_prefix": "rm(",
     "library": "var_list.r",
     "varRefreshCmd": "cat(var_dic_list()) "
    }
   },
   "types_to_exclude": [
    "module",
    "function",
    "builtin_function_or_method",
    "instance",
    "_Feature"
   ],
   "window_display": false
  }
 },
 "nbformat": 4,
 "nbformat_minor": 1
}
