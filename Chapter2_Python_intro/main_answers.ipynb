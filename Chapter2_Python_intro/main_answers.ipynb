{
 "cells": [
  {
   "cell_type": "markdown",
   "metadata": {},
   "source": [
    "# E2. Exercises"
   ]
  },
  {
   "cell_type": "markdown",
   "metadata": {},
   "source": [
    "This notebook contains answers and notes for the following exercises:\n",
    "\n",
    "- [Exercise 2.1](#Exercise_2.1)\n",
    "    - [Answer 2.1](#Answer-2.1)\n",
    "- [Exercise 2.2](#Exercise_2.2)\n",
    "    - [Answer 2.2](#Answer-2.2)\n",
    "- [Exercise 2.3](#Exercise_2.3)\n",
    "    - [Answer 2.3](#Answer-2.3)\n",
    "- [Exercise 2.4](#Exercise_2.4)\n",
    "    - [Answer 2.4](#Answer-2.4)\n",
    "- [Exercise 2.5](#Exercise_2.5)\n",
    "    - [Answer 2.5](#Answer-2.5)\n",
    "- [Exercise 2.6](#Exercise_2.6)\n",
    "    - [Answer 2.6](#Answer-2.6)\n",
    "- [Exercise 2.7](#Exercise_2.7)\n",
    "    - [Answer 2.7](#Answer-2.7)"
   ]
  },
  {
   "cell_type": "markdown",
   "metadata": {},
   "source": [
    "## Exercise 2.1"
   ]
  },
  {
   "cell_type": "markdown",
   "metadata": {},
   "source": [
    "You were given some code:"
   ]
  },
  {
   "cell_type": "code",
   "execution_count": 1,
   "metadata": {},
   "outputs": [
    {
     "name": "stdout",
     "output_type": "stream",
     "text": [
      "Tired and hungry? False\n",
      "Just tired? False\n",
      "Just hungry? True\n"
     ]
    }
   ],
   "source": [
    "#!/usr/bin/env python\n",
    "\n",
    "\n",
    "\n",
    "# hunger threshold in hours\n",
    "hungerThreshold = 3.0\n",
    "# sleep threshold in hours\n",
    "sleepThreshold = 8.0\n",
    "\n",
    "# time since fed, in hours\n",
    "timeSinceFed = 4.0\n",
    "# time since sleep, in hours\n",
    "timeSinceSleep = 3.0\n",
    "\n",
    "# Note use of \\ as line continuation here\n",
    "# It is poor style to have code lines > 79 characters\n",
    "#\n",
    "# see http://www.python.org/dev/peps/pep-0008/#maximum-line-length\n",
    "#\n",
    "print(\"Tired and hungry?\",(timeSinceSleep >= sleepThreshold) and \\\n",
    "                            (timeSinceFed >= hungerThreshold))\n",
    "print(\"Just tired?\",(timeSinceSleep >= sleepThreshold) and \\\n",
    "                            (not (timeSinceFed >= hungerThreshold)))\n",
    "print(\"Just hungry?\",(not (timeSinceSleep >= sleepThreshold)) and \\\n",
    "                            (timeSinceFed >= hungerThreshold))"
   ]
  },
  {
   "cell_type": "markdown",
   "metadata": {},
   "source": [
    "The code above works fine, but the large blocks of logical tests are not very clear or readable, and contain repeated items.\n",
    "\n",
    "Modify this block of code to be clearer by assigning the individual logical tests to variables, \n",
    "\n",
    "e.g.\n",
    "\n",
    "`tired = timeSinceSleep >= sleepThreshold`"
   ]
  },
  {
   "cell_type": "markdown",
   "metadata": {},
   "source": [
    "## Answer 2.1"
   ]
  },
  {
   "cell_type": "markdown",
   "metadata": {},
   "source": [
    "This is quite easily made clearer, and is also improved by making sure you comment what you are doing.\n",
    "\n",
    "It is normally a good idea to put some information on what the purpose of the code is etc.\n",
    "\n",
    "It is also a good idea if you get into the practice of describing what changes you have made\n",
    "to the code from the original version that this is based on, to give full attribution.\n",
    "We will see that this is important with regard to plagiarism in coursework submission.\n",
    "\n",
    "Hasve a look at the [Python styleguide](http://www.python.org/dev/peps/pep-0008/#code-lay-out) for ideas on what makes good clear code.\n",
    "\n",
    "You wouldn't have been expected to do *all* of these things (the code below is mainly to give you some ideas for what to do next time!), but hopefully you will have at least set the variables:\n",
    "\n",
    "`tired  = (timeSinceSleep >= sleepThreshold)`  \n",
    "`hungry = (timeSinceFed >= hungerThreshold)`\n",
    "\n",
    "and used them in the code for greater clarity."
   ]
  },
  {
   "cell_type": "code",
   "execution_count": 2,
   "metadata": {},
   "outputs": [
    {
     "name": "stdout",
     "output_type": "stream",
     "text": [
      "Tired and hungry?\tFalse\n",
      "Tired or hungry?\t\tTrue\n",
      "Just tired?\t\tFalse\n",
      "Just hungry?\t\tTrue\n"
     ]
    }
   ],
   "source": [
    "\"\"\" Exercise 2.1 Scientific Computing\n",
    "    \n",
    "    Thu  3 Oct 2013 10:46:58 BST\n",
    "    \n",
    "    P. Lewis : p.lewis@ucl.ac.uk\n",
    "  \n",
    "    This code prints information on whether\n",
    "    I am tired and/or hungry.\n",
    "    \n",
    "    It is controlled by the variables:\n",
    "        timeSinceFed\n",
    "        timeSinceSleep\n",
    "        \n",
    "    which are checked against hunger and\n",
    "    sleep thresholds:\n",
    "        hungerThreshold\n",
    "        sleepThreshold\n",
    "        \n",
    "    All times given as float, in hours\n",
    "        \n",
    "        \n",
    "    It is a modification of the code in Exercise 2.1\n",
    "    of Scientific Computing (https://github.com/profLewis/geogg122)\n",
    "    \n",
    "    Edits made from original:\n",
    "        - added detailed comment strings\n",
    "        - neatened up the comments\n",
    "        - made code easier to read by setting variables\n",
    "          tired and hungry.\n",
    "        - added a new result for 'tired or hungry'\n",
    "        - added tabs (\\t) to the print statements to get\n",
    "          neater output formatting.\n",
    "          \n",
    "\"\"\"\n",
    "\n",
    "# Thresholds\n",
    "hungerThreshold = 3.0    # hunger threshold in hours\n",
    "sleepThreshold  = 8.0    # sleep threshold in hours\n",
    "\n",
    "# Control variables\n",
    "timeSinceFed   = 4.0     # time since fed, in hour\n",
    "timeSinceSleep = 3.0     # time since sleep, in hours\n",
    "\n",
    "# logical tests for tired and hungry\n",
    "tired  = (timeSinceSleep >= sleepThreshold)\n",
    "hungry = (timeSinceFed >= hungerThreshold)\n",
    "\n",
    "# print results\n",
    "print(\"Tired and hungry?\\t\",  tired and hungry)    \n",
    "print(\"Tired or hungry?\\t\\t\", tired or hungry)    \n",
    "print(\"Just tired?\\t\\t\",      tired and not hungry)\n",
    "print(\"Just hungry?\\t\\t\",     hungry and not tired)"
   ]
  },
  {
   "cell_type": "markdown",
   "metadata": {},
   "source": [
    "## Exercise 2.2"
   ]
  },
  {
   "cell_type": "markdown",
   "metadata": {},
   "source": [
    "#### A."
   ]
  },
  {
   "cell_type": "markdown",
   "metadata": {},
   "source": [
    "A small piece of Python code that will set the variable `today` to be a string with the day of the week today is:"
   ]
  },
  {
   "cell_type": "code",
   "execution_count": 3,
   "metadata": {},
   "outputs": [
    {
     "name": "stdout",
     "output_type": "stream",
     "text": [
      "today is Tuesday\n"
     ]
    }
   ],
   "source": [
    "# This imports a module that we can use to access dates\n",
    "from datetime import datetime\n",
    "\n",
    "# set up a list of days of the week, starting Monday\n",
    "# Note the line continuation here with \\\n",
    "week = ['Monday','Tuesday','Wednesday','Thursday',\\\n",
    "        'Friday','Saturday','Sunday']\n",
    "\n",
    "# This part gives the day of the week\n",
    "# as an integer, 0 -> Monday, 1 -> Tuesday etc.\n",
    "day_number = datetime.now().weekday()\n",
    "\n",
    "# print item day_number in the list week\n",
    "print(\"today is\",week[day_number])"
   ]
  },
  {
   "cell_type": "markdown",
   "metadata": {},
   "source": [
    "Based on the example below, **set up a diary for youself for the week to print out what you should be doing today, using the conditional structure `if .. elif ... else`.**"
   ]
  },
  {
   "cell_type": "markdown",
   "metadata": {},
   "source": [
    "## Answer 2.2"
   ]
  },
  {
   "cell_type": "code",
   "execution_count": 4,
   "metadata": {},
   "outputs": [
    {
     "name": "stdout",
     "output_type": "stream",
     "text": [
      "Today is Tuesday\n",
      "Spend the day learning Python\n"
     ]
    }
   ],
   "source": [
    "'''\n",
    "    Exercise 2.2A Scientific Computing\n",
    "    \n",
    "    Mon  7 Oct 2013 10:43:38 BST\n",
    "    \n",
    "    P. Lewis : p.lewis@ucl.ac.uk\n",
    "  \n",
    "    This code prints a diary for today.\n",
    "    \n",
    "'''\n",
    "\n",
    "'''The following code block is taken verbatim from \n",
    "   The Scientific Computing notes\n",
    "'''\n",
    "# This imports a module that we can use to access dates\n",
    "from datetime import datetime\n",
    "\n",
    "# set up a list of days of the week, starting Monday\n",
    "# Note the line continuation here with \\\n",
    "week = ['Monday','Tuesday','Wednesday','Thursday',\\\n",
    "        'Friday','Saturday','Sunday']\n",
    "\n",
    "# This part gives the day of the week\n",
    "# as an integer, 0 -> Monday, 1 -> Tuesday etc.\n",
    "day_number = datetime.now().weekday()\n",
    "\n",
    "# print item day_number in the list week\n",
    "print(\"Today is\",week[day_number])\n",
    "\n",
    "'''New code: my own work\n",
    "   Following the example in the question for E2.2A\n",
    "'''\n",
    "\n",
    "if day_number == 0:   # Monday\n",
    "    print('Spend the day learning Python')\n",
    "elif day_number == 1: # Tuesday\n",
    "    print('Spend the day learning Python')\n",
    "elif day_number == 2: # Wednesday\n",
    "    print('Go to Python class')\n",
    "elif day_number == 3: # Thursday\n",
    "    print('Spend the day learning Python')\n",
    "elif day_number == 4: # Friday\n",
    "    print('Spend the day learning Python')\n",
    "elif day_number == 5: # Saturday\n",
    "    print('Spend the day learning Python')\n",
    "elif day_number == 6: # Sunday\n",
    "    print('Spend the day learning Python')\n",
    "else:\n",
    "    print(\"get some sleep\")"
   ]
  },
  {
   "cell_type": "markdown",
   "metadata": {},
   "source": [
    "You should see from this that this is a rather awkward way to set up something of this nature, and it is prone to error in typing (you could easily miss a day out or type something else wrong)."
   ]
  },
  {
   "cell_type": "markdown",
   "metadata": {},
   "source": [
    "#### B."
   ]
  },
  {
   "cell_type": "markdown",
   "metadata": {},
   "source": [
    "You could set up the basic calendar for the week in a list, with the first entry representing Monday, the second Tuesday etc."
   ]
  },
  {
   "cell_type": "code",
   "execution_count": 5,
   "metadata": {},
   "outputs": [],
   "source": [
    "my_diary = ['Spend the day practicing Python',\\\n",
    "            'Spend the day practicing Python',\\\n",
    "            'Do some reading in the library at UCL', \\\n",
    "            'Remember to wake up early to get to the Python class at UCL',\\\n",
    "            'Spend the day practicing Python',\\\n",
    "            'Remember to wake up early to go to classes at Imperial College',\\\n",
    "            'Work at Python exercises from home',\\\n",
    "            'Work at Python exercises from home']"
   ]
  },
  {
   "cell_type": "markdown",
   "metadata": {},
   "source": [
    "Using a list of this sort, **print the diary entry for today *without* using conditional statements.**\n",
    "\n",
    "Criticise the code you develop and make suggestions for improvement."
   ]
  },
  {
   "cell_type": "markdown",
   "metadata": {},
   "source": [
    "### Answer"
   ]
  },
  {
   "cell_type": "code",
   "execution_count": 6,
   "metadata": {},
   "outputs": [
    {
     "name": "stdout",
     "output_type": "stream",
     "text": [
      "Today is Tuesday so do some reading in the library at UCL\n"
     ]
    }
   ],
   "source": [
    "'''\n",
    "    Exercise 2.2B Scientific Computing\n",
    "    \n",
    "    Mon  7 Oct 2013 10:43:38 BST\n",
    "    \n",
    "    P. Lewis : p.lewis@ucl.ac.uk\n",
    "  \n",
    "    This code prints a diary for today.\n",
    "    \n",
    "'''\n",
    "\n",
    "'''The following code block is taken verbatim from \n",
    "   The Scientific Computing notes\n",
    "'''\n",
    "# This imports a module that we can use to access dates\n",
    "from datetime import datetime\n",
    "\n",
    "# set up a list of days of the week, starting Monday\n",
    "# Note the line continuation here with \\\n",
    "week = ['Monday','Tuesday','Wednesday','Thursday',\\\n",
    "        'Friday','Saturday','Sunday']\n",
    "\n",
    "# This part gives the day of the week\n",
    "# as an integer, 0 -> Monday, 1 -> Tuesday etc.\n",
    "day_number = datetime.now().weekday()\n",
    "\n",
    "'''New code: my own work\n",
    "   Following the example in the question for E2.2B\n",
    "'''\n",
    "\n",
    "my_diary = ['spend the day doing Python',\\\n",
    "            'do some reading in the library at UCL', \\\n",
    "            'remember to wake up early to get to the Python class at UCL',\\\n",
    "            'spend the day doing Python',\\\n",
    "            'remember to wake up early to go to classes at Imperial College',\\\n",
    "            'work at Python exercises from home',\\\n",
    "            'work at Python exercises from home']\n",
    "\n",
    "\n",
    "print(\"Today is\",week[day_number],'so',my_diary[day_number])"
   ]
  },
  {
   "cell_type": "markdown",
   "metadata": {},
   "source": [
    "This is a bit better, but it's still too easy to get the entries in the list wrong, or get confused that Monday is day 0, so we would typically use a dictionary (`dict`) for something of this nature."
   ]
  },
  {
   "cell_type": "code",
   "execution_count": 7,
   "metadata": {},
   "outputs": [
    {
     "name": "stdout",
     "output_type": "stream",
     "text": [
      "Today is Tuesday so do some reading in the library at UCL\n"
     ]
    }
   ],
   "source": [
    "'''\n",
    "    Exercise 2.2B Scientific Computing\n",
    "    \n",
    "    Mon  7 Oct 2013 10:43:38 BST\n",
    "    \n",
    "    P. Lewis : p.lewis@ucl.ac.uk\n",
    "  \n",
    "    This code prints a diary for today.\n",
    "    \n",
    "'''\n",
    "\n",
    "'''The following code block is taken verbatim from \n",
    "   The Scientific Computing notes\n",
    "'''\n",
    "# This imports a module that we can use to access dates\n",
    "from datetime import datetime\n",
    "\n",
    "# This part gives the day of the week\n",
    "# as an integer, 0 -> Monday, 1 -> Tuesday etc.\n",
    "day_number = datetime.now().weekday()\n",
    "\n",
    "'''New code: my own work\n",
    "   Following the example in the question for E2.2B\n",
    "'''\n",
    "\n",
    "week = {0: 'Monday',\\\n",
    "        1: 'Tuesday',\\\n",
    "        2: 'Wednesday',\\\n",
    "        3: 'Thursday',\\\n",
    "        4: 'Friday',\\\n",
    "        5: 'Saturday',\\\n",
    "        6: 'Sunday'}\n",
    "\n",
    "\n",
    "my_diary = {'Monday':    'spend the day doing Python',\\\n",
    "            'Tuesday':   'do some reading in the library at UCL',\\\n",
    "            'Wednesday': 'remember to wake up early to get to the Python class at UCL',\\\n",
    "            'Thursday':  'spend the day doing Python',\\\n",
    "            'Friday':    'remember to wake up early to go to classes at Imperial College',\\\n",
    "            'Saturday':  'work at Python exercises from home',\\\n",
    "            'Sunday':    'work at Python exercises from home'}\n",
    "\n",
    "today = week[day_number]\n",
    "print(\"Today is\",today,'so',my_diary[today])"
   ]
  },
  {
   "cell_type": "markdown",
   "metadata": {},
   "source": [
    "## Exercise 2.3"
   ]
  },
  {
   "cell_type": "markdown",
   "metadata": {},
   "source": [
    "The data below are fields of:\n",
    "\n",
    "0 year  \n",
    "1 month   \n",
    "2 tmax (degC)  \n",
    "3 tmin (degC)  \n",
    "4 air frost (days)  \n",
    "5 rain (mm)  \n",
    "6 sun (hours)  \n",
    "\n",
    "for Lowestoft in the UK for the year 2012, taken from [Met Office data](http://www.metoffice.gov.uk/climate/uk/stationdata/lowestoftdata.txt)."
   ]
  },
  {
   "cell_type": "code",
   "execution_count": 8,
   "metadata": {},
   "outputs": [
    {
     "name": "stdout",
     "output_type": "stream",
     "text": [
      "   2012   1    8.7    3.1      5   33.1   53.9\n",
      "   2012   2    7.1    1.6     13   13.8   86.6\n",
      "   2012   3   11.3    3.7      2   64.2  141.3\n",
      "   2012   4   10.9    4.3      3  108.9  151.1\n",
      "   2012   5   15.1    8.6      0   46.6  171.3\n",
      "   2012   6   17.9   10.9      0   74.4  189.0\n",
      "   2012   7   20.3   12.8      0   93.6  206.9\n",
      "   2012   8   22.0   14.0      0   59.6  217.3\n",
      "   2012   9   18.9    9.5      0   38.8  200.8\n",
      "   2012  10   13.6    7.9      0   92.7   94.7\n",
      "   2012  11   10.5    4.4      2   62.1   79.6  \n",
      "   2012  12    7.9    2.4      8   95.6   41.9  \n"
     ]
    }
   ],
   "source": [
    "data = \"\"\"   2012   1    8.7    3.1      5   33.1   53.9\n",
    "   2012   2    7.1    1.6     13   13.8   86.6\n",
    "   2012   3   11.3    3.7      2   64.2  141.3\n",
    "   2012   4   10.9    4.3      3  108.9  151.1\n",
    "   2012   5   15.1    8.6      0   46.6  171.3\n",
    "   2012   6   17.9   10.9      0   74.4  189.0\n",
    "   2012   7   20.3   12.8      0   93.6  206.9\n",
    "   2012   8   22.0   14.0      0   59.6  217.3\n",
    "   2012   9   18.9    9.5      0   38.8  200.8\n",
    "   2012  10   13.6    7.9      0   92.7   94.7\n",
    "   2012  11   10.5    4.4      2   62.1   79.6  \n",
    "   2012  12    7.9    2.4      8   95.6   41.9  \"\"\"\n",
    "\n",
    "print(data)"
   ]
  },
  {
   "cell_type": "markdown",
   "metadata": {},
   "source": [
    "You can use the Python package `pylab` to simply plot data on a graph:"
   ]
  },
  {
   "cell_type": "code",
   "execution_count": 9,
   "metadata": {},
   "outputs": [
    {
     "data": {
      "text/plain": [
       "<matplotlib.text.Text at 0x106501890>"
      ]
     },
     "execution_count": 9,
     "metadata": {},
     "output_type": "execute_result"
    },
    {
     "data": {
      "image/png": "[encoded data removed]",
      "text/plain": [
       "<matplotlib.figure.Figure at 0x105fcedd0>"
      ]
     },
     "metadata": {},
     "output_type": "display_data"
    }
   ],
   "source": [
    "# import the pylab module\n",
    "import pylab as plt\n",
    "%pylab inline\n",
    "\n",
    "\n",
    "# some e.g. x and y data\n",
    "x = range(100)\n",
    "y = [i**0.5 for i in x]\n",
    "\n",
    "plt.plot(x,y)\n",
    "plt.xlabel('x')\n",
    "plt.ylabel('y')\n",
    "plt.title('Plot of sqrt(x)')"
   ]
  },
  {
   "cell_type": "markdown",
   "metadata": {},
   "source": [
    "**Produce a plot of the number of sunshine hours for Lowestoft for the year 2012** using the data given above.\n",
    "\n",
    "Hint: the data have newline chcracters `\\n` at the end of each line of data, and are separated by white space withion each line."
   ]
  },
  {
   "cell_type": "markdown",
   "metadata": {},
   "source": [
    "## Answer 2.3"
   ]
  },
  {
   "cell_type": "markdown",
   "metadata": {},
   "source": [
    "First, we need to split the string `data` by newline (`\\n`) to give a list of lines:"
   ]
  },
  {
   "cell_type": "code",
   "execution_count": 10,
   "metadata": {},
   "outputs": [
    {
     "name": "stdout",
     "output_type": "stream",
     "text": [
      "['   2012   1    8.7    3.1      5   33.1   53.9', '   2012   2    7.1    1.6     13   13.8   86.6', '   2012   3   11.3    3.7      2   64.2  141.3', '   2012   4   10.9    4.3      3  108.9  151.1', '   2012   5   15.1    8.6      0   46.6  171.3', '   2012   6   17.9   10.9      0   74.4  189.0', '   2012   7   20.3   12.8      0   93.6  206.9', '   2012   8   22.0   14.0      0   59.6  217.3', '   2012   9   18.9    9.5      0   38.8  200.8', '   2012  10   13.6    7.9      0   92.7   94.7', '   2012  11   10.5    4.4      2   62.1   79.6  ', '   2012  12    7.9    2.4      8   95.6   41.9  ']\n"
     ]
    }
   ],
   "source": [
    "ldata = data.split('\\n')\n",
    "\n",
    "print(ldata)"
   ]
  },
  {
   "cell_type": "markdown",
   "metadata": {},
   "source": [
    "Next, we need to loop over each line and split by whitespace.\n",
    "\n",
    "This will involve something like:"
   ]
  },
  {
   "cell_type": "code",
   "execution_count": 11,
   "metadata": {},
   "outputs": [
    {
     "name": "stdout",
     "output_type": "stream",
     "text": [
      "['2012', '1', '8.7', '3.1', '5', '33.1', '53.9']\n"
     ]
    }
   ],
   "source": [
    "# example using first line\n",
    "this_line = ldata[0]\n",
    "items = this_line.split()\n",
    "print(items)"
   ]
  },
  {
   "cell_type": "code",
   "execution_count": 12,
   "metadata": {},
   "outputs": [
    {
     "name": "stdout",
     "output_type": "stream",
     "text": [
      "[1.0, 2.0, 3.0, 4.0, 5.0, 6.0, 7.0, 8.0, 9.0, 10.0, 11.0, 12.0]\n",
      "[53.9, 86.6, 141.3, 151.1, 171.3, 189.0, 206.9, 217.3, 200.8, 94.7, 79.6, 41.9]\n"
     ]
    }
   ],
   "source": [
    "ldata = data.split('\\n')\n",
    "\n",
    "# set empty lists to put the data in\n",
    "x = []\n",
    "y = []\n",
    "\n",
    "for this_line in ldata:\n",
    "    items = this_line.split()\n",
    "    # convert from string to float\n",
    "    x.append(float(items[1])) # the month\n",
    "    y.append(float(items[6])) # sunshine hrs\n",
    "\n",
    "print(x)\n",
    "print(y)"
   ]
  },
  {
   "cell_type": "markdown",
   "metadata": {},
   "source": [
    "Now we just need to plot it:"
   ]
  },
  {
   "cell_type": "code",
   "execution_count": 13,
   "metadata": {},
   "outputs": [
    {
     "data": {
      "text/plain": [
       "<matplotlib.text.Text at 0x106499550>"
      ]
     },
     "execution_count": 13,
     "metadata": {},
     "output_type": "execute_result"
    },
    {
     "data": {
      "image/png": "[encoded data removed]",
      "text/plain": [
       "<matplotlib.figure.Figure at 0x1064e2e50>"
      ]
     },
     "metadata": {},
     "output_type": "display_data"
    }
   ],
   "source": [
    "# import the pylab module\n",
    "import pylab as plt\n",
    "%pylab inline\n",
    "\n",
    "plt.plot(x,y)\n",
    "plt.xlabel('month of 2012')\n",
    "plt.ylabel('Sunshine hours')\n",
    "plt.title('Sunshine hours for Lowestoft, UK, 2012')"
   ]
  },
  {
   "cell_type": "markdown",
   "metadata": {},
   "source": [
    "We could make it a bit more compact and general, but if you do, make sure it is still easily readable."
   ]
  },
  {
   "cell_type": "code",
   "execution_count": 14,
   "metadata": {},
   "outputs": [
    {
     "data": {
      "text/plain": [
       "<matplotlib.text.Text at 0x106787510>"
      ]
     },
     "execution_count": 14,
     "metadata": {},
     "output_type": "execute_result"
    },
    {
     "data": {
      "image/png": "[encoded data removed]",
      "text/plain": [
       "<matplotlib.figure.Figure at 0x1065ba810>"
      ]
     },
     "metadata": {},
     "output_type": "display_data"
    }
   ],
   "source": [
    "import pylab as plt\n",
    "%pylab inline\n",
    "items = [[float(i) \\\n",
    "            for i in j.split()] \\\n",
    "                for j in data.split('\\n')]\n",
    "\n",
    "# get specific columns from items \n",
    "x = [i[1] for i in items]\n",
    "y = [i[6] for i in items]\n",
    "\n",
    "# bigger graph if we want\n",
    "plt.figure(figsize=(14, 6))\n",
    "plt.plot(x,y)\n",
    "plt.xlabel('month of 2012')\n",
    "plt.ylabel('Sunshine hours')\n",
    "plt.title('Sunshine hours for Lowestoft, UK, 2012')"
   ]
  },
  {
   "cell_type": "markdown",
   "metadata": {},
   "source": [
    "You *might think* that labelling with the month name would be nicer. \n",
    "\n",
    "Thats quite a bit more complicated, but we'll put it in here anyway for future reference:"
   ]
  },
  {
   "cell_type": "code",
   "execution_count": 15,
   "metadata": {},
   "outputs": [
    {
     "data": {
      "text/plain": [
       "<matplotlib.text.Text at 0x106855110>"
      ]
     },
     "execution_count": 15,
     "metadata": {},
     "output_type": "execute_result"
    },
    {
     "data": {
      "image/png": "[encoded data removed]",
      "text/plain": [
       "<matplotlib.figure.Figure at 0x106767350>"
      ]
     },
     "metadata": {},
     "output_type": "display_data"
    }
   ],
   "source": [
    "import pylab as plt\n",
    "%pylab inline\n",
    "items = [[float(i) \\\n",
    "            for i in j.split()] \\\n",
    "                for j in data.split('\\n')]\n",
    "\n",
    "# get specific columns from items \n",
    "x = [int(i[1]) for i in items]\n",
    "y = [i[6] for i in items]\n",
    "\n",
    "months = [\"Jan\", \"Feb\", \"Mar\", \"Apr\", \\\n",
    "    \"May\", \"Jun\", \"Jul\", \"Aug\", \"Sep\", \"Oct\", \"Nov\", \"Dec\" ]\n",
    "\n",
    "# need access to ax to mess with xticks\n",
    "fig, ax = plt.subplots(figsize=(14, 6))\n",
    "plt.plot(x,y)\n",
    "\n",
    "# lots of hassle to do this sort of thing ...\n",
    "# but it is possible\n",
    "#\n",
    "# first set the limits to be the\n",
    "# same as x\n",
    "plt.xlim(x[0],x[-1])\n",
    "# then set the xticks to the values of x\n",
    "# to make sure there are 12 of them\n",
    "ax.set_xticks(x)\n",
    "# then replace these by the months\n",
    "ax.set_xticklabels(months)\n",
    "\n",
    "plt.xlabel('month of 2012')\n",
    "plt.ylabel('Sunshine hours')\n",
    "plt.title('Sunshine hours for Lowestoft, UK, 2012')"
   ]
  },
  {
   "cell_type": "markdown",
   "metadata": {},
   "source": [
    "## Exercise 2.4"
   ]
  },
  {
   "cell_type": "markdown",
   "metadata": {},
   "source": [
    "The text file [files/data/modis_files.txt](files/data/modis_files.txt) contains a listing of hdf format files that are in the directory `/data/geospatial_19/ucfajlg/fire/Angola/MOD09` on the UCL Geography system. The contents of the file looks like (first 10 lines):"
   ]
  },
  {
   "cell_type": "code",
   "execution_count": 16,
   "metadata": {},
   "outputs": [
    {
     "name": "stdout",
     "output_type": "stream",
     "text": [
      "/data/geospatial_19/ucfajlg/fire/Angola/MOD09/MOD09GA.A2004001.h19v10.005.2008109063923.hdf\r\n",
      "/data/geospatial_19/ucfajlg/fire/Angola/MOD09/MOD09GA.A2004002.h19v10.005.2008108084250.hdf\r\n",
      "/data/geospatial_19/ucfajlg/fire/Angola/MOD09/MOD09GA.A2004003.h19v10.005.2008108054126.hdf\r\n",
      "/data/geospatial_19/ucfajlg/fire/Angola/MOD09/MOD09GA.A2004004.h19v10.005.2008108112322.hdf\r\n",
      "/data/geospatial_19/ucfajlg/fire/Angola/MOD09/MOD09GA.A2004005.h19v10.005.2008108173219.hdf\r\n",
      "/data/geospatial_19/ucfajlg/fire/Angola/MOD09/MOD09GA.A2004006.h19v10.005.2008108214033.hdf\r\n",
      "/data/geospatial_19/ucfajlg/fire/Angola/MOD09/MOD09GA.A2004007.h19v10.005.2008109081257.hdf\r\n",
      "/data/geospatial_19/ucfajlg/fire/Angola/MOD09/MOD09GA.A2004008.h19v10.005.2008109111447.hdf\r\n",
      "/data/geospatial_19/ucfajlg/fire/Angola/MOD09/MOD09GA.A2004009.h19v10.005.2008109211421.hdf\r\n",
      "/data/geospatial_19/ucfajlg/fire/Angola/MOD09/MOD09GA.A2004010.h19v10.005.2008110031925.hdf\r\n"
     ]
    }
   ],
   "source": [
    "!head -10 < files/data/modis_files.txt"
   ]
  },
  {
   "cell_type": "markdown",
   "metadata": {},
   "source": [
    "Your task is to create a new file `files/data/some_modis_files.txt` that contains *only* the file names for the month of August.\n",
    "\n",
    "You will notice that the file names have a field in them such as `A2004006`. This is the one you will need to concentrate on, as it specifies the year (`2004` here) and the day of year (`doy`), (`006` in this example).\n",
    "\n",
    "There are various ways to find the day of year for a particular month / year, e,g, look on a [website](http://www.soils.wisc.edu/cgi-bin/asig/doyCal.rb)."
   ]
  },
  {
   "cell_type": "markdown",
   "metadata": {},
   "source": [
    "## Answer 2.4"
   ]
  },
  {
   "cell_type": "markdown",
   "metadata": {},
   "source": [
    "First then, find out which day of year range you want.\n",
    "\n",
    "August 2004 was doy 214 to 244 inclusive, so in python:\n",
    "\n",
    "```python\n",
    "    range(214,245)\n",
    "```\n",
    "\n",
    "We should know how to read data from files from the material above."
   ]
  },
  {
   "cell_type": "code",
   "execution_count": 17,
   "metadata": {},
   "outputs": [
    {
     "name": "stdout",
     "output_type": "stream",
     "text": [
      "/data/geospatial_19/ucfajlg/fire/Angola/MOD09/MOD09GA.A2004001.h19v10.005.2008109063923.hdf\n",
      "\n"
     ]
    }
   ],
   "source": [
    "# ls /data/geospatial_19/ucfajlg/fire/Angola/MOD09/*.hdf > /tmp/modis_files.txt\n",
    "fp = open('files/data/modis_files.txt','r')\n",
    "for line in fp.readlines():\n",
    "    print(line)\n",
    "    break   # break in here just so it doesnt print too much \n",
    "            # dont put that in your code !!!\n",
    "fp.close()"
   ]
  },
  {
   "cell_type": "markdown",
   "metadata": {},
   "source": [
    "we have the filename e.g. \n",
    "\n",
    "`/data/geospatial_19/ucfajlg/fire/Angola/MOD09/MOD09GA.A2004001.h19v10.005.2008109063923.hdf` \n",
    "\n",
    "in the variable `line`.\n",
    "\n",
    "Now we want to split this to find the filename, which will be the last element (-1):"
   ]
  },
  {
   "cell_type": "code",
   "execution_count": 18,
   "metadata": {},
   "outputs": [
    {
     "name": "stdout",
     "output_type": "stream",
     "text": [
      "['', 'data', 'geospatial_19', 'ucfajlg', 'fire', 'Angola', 'MOD09', 'MOD09GA.A2004001.h19v10.005.2008109063923.hdf\\n']\n"
     ]
    }
   ],
   "source": [
    "# split the string on '/', the file separator\n",
    "aline = line.split('/')\n",
    "print(aline)"
   ]
  },
  {
   "cell_type": "code",
   "execution_count": 19,
   "metadata": {},
   "outputs": [
    {
     "name": "stdout",
     "output_type": "stream",
     "text": [
      "MOD09GA.A2004001.h19v10.005.2008109063923.hdf\n",
      "\n"
     ]
    }
   ],
   "source": [
    "# and all we want is the last item:\n",
    "\n",
    "fname = line.split('/')[-1]\n",
    "print(fname)"
   ]
  },
  {
   "cell_type": "markdown",
   "metadata": {},
   "source": [
    "Now we need to split this up, with `.` (dot) as the separator, and get the second item: "
   ]
  },
  {
   "cell_type": "code",
   "execution_count": 20,
   "metadata": {},
   "outputs": [
    {
     "name": "stdout",
     "output_type": "stream",
     "text": [
      "['MOD09GA', 'A2004001', 'h19v10', '005', '2008109063923', 'hdf\\n']\n",
      "A2004001\n"
     ]
    }
   ],
   "source": [
    "fname = line.split('/')[-1]\n",
    "fbits = fname.split('.')\n",
    "print(fbits)\n",
    "\n",
    "datebit = fbits[1]\n",
    "print(datebit)"
   ]
  },
  {
   "cell_type": "markdown",
   "metadata": {},
   "source": [
    "The day of year is the last 3 elements of this string:"
   ]
  },
  {
   "cell_type": "code",
   "execution_count": 21,
   "metadata": {},
   "outputs": [
    {
     "name": "stdout",
     "output_type": "stream",
     "text": [
      "1\n"
     ]
    }
   ],
   "source": [
    "doy = int(datebit[-3:])\n",
    "\n",
    "print(doy)"
   ]
  },
  {
   "cell_type": "markdown",
   "metadata": {},
   "source": [
    "And check to see if doy is in the required range:\n",
    "\n",
    "Putting this together:"
   ]
  },
  {
   "cell_type": "code",
   "execution_count": 22,
   "metadata": {},
   "outputs": [
    {
     "name": "stdout",
     "output_type": "stream",
     "text": [
      "/data/geospatial_19/ucfajlg/fire/Angola/MOD09/MOD09GA.A2004214.h19v10.005.2010052095834.hdf\n",
      "\n"
     ]
    }
   ],
   "source": [
    "date_range = list(range(214,245))\n",
    "\n",
    "# ls /data/geospatial_19/ucfajlg/fire/Angola/MOD09/*.hdf > /tmp/modis_files.txt\n",
    "fp = open('files/data/modis_files.txt','r')\n",
    "for line in fp.readlines():\n",
    "    fname = line.split('/')[-1]\n",
    "    fbits = fname.split('.')\n",
    "    datebit = fbits[1]\n",
    "    doy = int(datebit[-3:])\n",
    "    if doy in date_range:\n",
    "        print(line)\n",
    "        break\n",
    "fp.close()"
   ]
  },
  {
   "cell_type": "markdown",
   "metadata": {},
   "source": [
    "Now put in the part that writes it to a file:"
   ]
  },
  {
   "cell_type": "code",
   "execution_count": 23,
   "metadata": {},
   "outputs": [],
   "source": [
    "ifile = 'files/data/modis_files.txt'\n",
    "ofile = 'files/data/some_modis_files.txt'\n",
    "\n",
    "ifp = open(ifile,'r')\n",
    "ofp = open(ofile,'w')\n",
    "for line in ifp.readlines():\n",
    "    fname = line.split('/')[-1]\n",
    "    fbits = fname.split('.')\n",
    "    datebit = fbits[1]\n",
    "    doy = int(datebit[-3:])\n",
    "    if doy in date_range:\n",
    "        ofp.write(line)\n",
    "ifp.close()\n",
    "ofp.close()"
   ]
  },
  {
   "cell_type": "code",
   "execution_count": 24,
   "metadata": {},
   "outputs": [],
   "source": [
    "# or in a more compressed form\n",
    "\n",
    "ifile = 'files/data/modis_files.txt'\n",
    "ofile = 'files/data/some_modis_files.txt'\n",
    "\n",
    "ifp = open(ifile,'r')\n",
    "ofp = open(ofile,'w')\n",
    "for line in ifp.readlines():\n",
    "    doy = int(line.split('/')[-1].split('.')[1][-3:])\n",
    "    if doy in date_range:\n",
    "        ofp.write(line)\n",
    "ifp.close()\n",
    "ofp.close()"
   ]
  },
  {
   "cell_type": "markdown",
   "metadata": {},
   "source": [
    "check from unix:"
   ]
  },
  {
   "cell_type": "code",
   "execution_count": 25,
   "metadata": {},
   "outputs": [
    {
     "name": "stdout",
     "output_type": "stream",
     "text": [
      "/data/geospatial_19/ucfajlg/fire/Angola/MOD09/MOD09GA.A2004214.h19v10.005.2010052095834.hdf\r\n"
     ]
    }
   ],
   "source": [
    "!head -1 < files/data/some_modis_files.txt"
   ]
  },
  {
   "cell_type": "code",
   "execution_count": 26,
   "metadata": {},
   "outputs": [
    {
     "name": "stdout",
     "output_type": "stream",
     "text": [
      "/data/geospatial_19/ucfajlg/fire/Angola/MOD09/MOD09GA.A2004244.h19v10.005.2008256095130.hdf\r\n"
     ]
    }
   ],
   "source": [
    "!tail -1 < files/data/some_modis_files.txt"
   ]
  },
  {
   "cell_type": "markdown",
   "metadata": {},
   "source": [
    "## Exercise 2.5"
   ]
  },
  {
   "cell_type": "markdown",
   "metadata": {},
   "source": [
    "\n",
    "We want to calculate the **maximum** monthly precipitation for regions of the UK for all years in the 20th Century.  "
   ]
  },
  {
   "cell_type": "code",
   "execution_count": 27,
   "metadata": {},
   "outputs": [
    {
     "name": "stdout",
     "output_type": "stream",
     "text": [
      "In South East England\n",
      "In the year 1900 the rainiest month was Feb with 125.9 mm\n",
      "In the year 1901 the rainiest month was Dec with 98.7 mm\n",
      "In the year 1902 the rainiest month was Aug with 97.2 mm\n",
      "In the year 1903 the rainiest month was Oct with 188.4 mm\n",
      "In the year 1904 the rainiest month was Jan with 96.0 mm\n",
      "In the year 1905 the rainiest month was Jun with 104.5 mm\n",
      "In the year 1906 the rainiest month was Jan with 127.3 mm\n",
      "In the year 1907 the rainiest month was Oct with 129.5 mm\n",
      "In the year 1908 the rainiest month was Aug with 83.8 mm\n",
      "In the year 1909 the rainiest month was Oct with 143.9 mm\n",
      "In the year 1910 the rainiest month was Dec with 119.4 mm\n",
      "In the year 1911 the rainiest month was Dec with 153.6 mm\n",
      "In the year 1912 the rainiest month was Aug with 151.6 mm\n",
      "In the year 1913 the rainiest month was Oct with 106.5 mm\n",
      "In the year 1914 the rainiest month was Dec with 190.2 mm\n",
      "In the year 1915 the rainiest month was Dec with 163.9 mm\n",
      "In the year 1916 the rainiest month was Mar with 110.7 mm\n",
      "In the year 1917 the rainiest month was Aug with 135.1 mm\n",
      "In the year 1918 the rainiest month was Sep with 151.1 mm\n",
      "In the year 1919 the rainiest month was Dec with 121.4 mm\n",
      "In the year 1920 the rainiest month was Jul with 116.9 mm\n",
      "In the year 1921 the rainiest month was Jan with 70.8 mm\n",
      "In the year 1922 the rainiest month was Jul with 92.2 mm\n",
      "In the year 1923 the rainiest month was Oct with 142.5 mm\n",
      "In the year 1924 the rainiest month was Oct with 110.2 mm\n",
      "In the year 1925 the rainiest month was Jul with 98.1 mm\n",
      "In the year 1926 the rainiest month was Nov with 143.8 mm\n",
      "In the year 1927 the rainiest month was Sep with 138.5 mm\n",
      "In the year 1928 the rainiest month was Oct with 137.0 mm\n",
      "In the year 1929 the rainiest month was Nov with 175.6 mm\n",
      "In the year 1930 the rainiest month was Nov with 121.0 mm\n",
      "In the year 1931 the rainiest month was Aug with 101.3 mm\n",
      "In the year 1932 the rainiest month was Oct with 146.4 mm\n",
      "In the year 1933 the rainiest month was Mar with 74.1 mm\n",
      "In the year 1934 the rainiest month was Dec with 176.3 mm\n",
      "In the year 1935 the rainiest month was Nov with 148.2 mm\n",
      "In the year 1936 the rainiest month was Jan with 112.8 mm\n",
      "In the year 1937 the rainiest month was Jan with 124.9 mm\n",
      "In the year 1938 the rainiest month was Nov with 93.6 mm\n",
      "In the year 1939 the rainiest month was Oct with 154.0 mm\n",
      "In the year 1940 the rainiest month was Nov with 203.0 mm\n",
      "In the year 1941 the rainiest month was Aug with 117.3 mm\n",
      "In the year 1942 the rainiest month was Oct with 94.3 mm\n",
      "In the year 1943 the rainiest month was Jan with 130.2 mm\n",
      "In the year 1944 the rainiest month was Nov with 117.0 mm\n",
      "In the year 1945 the rainiest month was Jul with 103.8 mm\n",
      "In the year 1946 the rainiest month was Nov with 126.7 mm\n",
      "In the year 1947 the rainiest month was Mar with 150.7 mm\n",
      "In the year 1948 the rainiest month was Jan with 125.3 mm\n",
      "In the year 1949 the rainiest month was Oct with 189.3 mm\n",
      "In the year 1950 the rainiest month was Nov with 137.9 mm\n",
      "In the year 1951 the rainiest month was Nov with 161.9 mm\n",
      "In the year 1952 the rainiest month was Nov with 99.9 mm\n",
      "In the year 1953 the rainiest month was Jul with 87.5 mm\n",
      "In the year 1954 the rainiest month was Nov with 131.0 mm\n",
      "In the year 1955 the rainiest month was May with 110.5 mm\n",
      "In the year 1956 the rainiest month was Jan with 113.7 mm\n",
      "In the year 1957 the rainiest month was Feb with 97.7 mm\n",
      "In the year 1958 the rainiest month was Sep with 107.4 mm\n",
      "In the year 1959 the rainiest month was Dec with 143.4 mm\n",
      "In the year 1960 the rainiest month was Oct with 167.0 mm\n",
      "In the year 1961 the rainiest month was Dec with 102.0 mm\n",
      "In the year 1962 the rainiest month was Sep with 94.0 mm\n",
      "In the year 1963 the rainiest month was Nov with 141.0 mm\n",
      "In the year 1964 the rainiest month was Mar with 97.7 mm\n",
      "In the year 1965 the rainiest month was Dec with 126.9 mm\n",
      "In the year 1966 the rainiest month was Oct with 129.1 mm\n",
      "In the year 1967 the rainiest month was Oct with 126.6 mm\n",
      "In the year 1968 the rainiest month was Sep with 135.5 mm\n",
      "In the year 1969 the rainiest month was Nov with 108.4 mm\n",
      "In the year 1970 the rainiest month was Nov with 186.4 mm\n",
      "In the year 1971 the rainiest month was Jun with 134.4 mm\n",
      "In the year 1972 the rainiest month was Dec with 94.0 mm\n",
      "In the year 1973 the rainiest month was May with 76.6 mm\n",
      "In the year 1974 the rainiest month was Sep with 164.7 mm\n",
      "In the year 1975 the rainiest month was Sep with 122.8 mm\n",
      "In the year 1976 the rainiest month was Oct with 141.5 mm\n",
      "In the year 1977 the rainiest month was Aug with 132.8 mm\n",
      "In the year 1978 the rainiest month was Dec with 144.9 mm\n",
      "In the year 1979 the rainiest month was Dec with 122.6 mm\n",
      "In the year 1980 the rainiest month was Oct with 110.1 mm\n",
      "In the year 1981 the rainiest month was Mar with 131.2 mm\n",
      "In the year 1982 the rainiest month was Oct with 143.0 mm\n",
      "In the year 1983 the rainiest month was May with 98.5 mm\n",
      "In the year 1984 the rainiest month was Jan with 112.4 mm\n",
      "In the year 1985 the rainiest month was Dec with 103.7 mm\n",
      "In the year 1986 the rainiest month was Jan with 110.1 mm\n",
      "In the year 1987 the rainiest month was Oct with 198.7 mm\n",
      "In the year 1988 the rainiest month was Jan with 143.8 mm\n",
      "In the year 1989 the rainiest month was Dec with 143.8 mm\n",
      "In the year 1990 the rainiest month was Feb with 122.3 mm\n",
      "In the year 1991 the rainiest month was Jun with 102.0 mm\n",
      "In the year 1992 the rainiest month was Nov with 132.8 mm\n",
      "In the year 1993 the rainiest month was Dec with 133.9 mm\n",
      "In the year 1994 the rainiest month was Jan with 115.6 mm\n",
      "In the year 1995 the rainiest month was Jan with 143.1 mm\n",
      "In the year 1996 the rainiest month was Nov with 122.6 mm\n",
      "In the year 1997 the rainiest month was Jun with 100.6 mm\n",
      "In the year 1998 the rainiest month was Oct with 128.1 mm\n",
      "In the year 1999 the rainiest month was Dec with 109.5 mm\n"
     ]
    }
   ],
   "source": [
    "# specify filename\n",
    "filename = 'files/data/HadSEEP_monthly_qc.txt'\n",
    "\n",
    "# read the data, chop off first 4 lines \n",
    "# and store in required_data\n",
    "fp = open(filename,'r')\n",
    "raw_data = fp.readlines()\n",
    "fp.close()\n",
    "required_data = raw_data[4:]\n",
    "\n",
    "# set up list to store data in\n",
    "data = []\n",
    "\n",
    "\n",
    "# loop over each line\n",
    "for line_data in required_data:\n",
    "    # split on white space\n",
    "    year_data = line_data.split()\n",
    "    \n",
    "    # convert data to float\n",
    "    for column,this_element in enumerate(year_data):\n",
    "        year_data[column] = float(this_element)\n",
    "    data.append(year_data)\n",
    "\n",
    "\n",
    "# select years    \n",
    "c20_data = []\n",
    "for line in data:\n",
    "    if (line[0] >= 1900) and (line[0] < 2000):\n",
    "        c20_data.append(line[1:-1])\n",
    "        \n",
    "# Aside: show which month that was\n",
    "month_names = [ \"Jan\", \"Feb\", \"Mar\", \"Apr\", \\\n",
    "    \"May\", \"Jun\", \"Jul\", \"Aug\", \"Sep\", \"Oct\", \"Nov\", \"Dec\" ]\n",
    "\n",
    "print(\"In South East England\")\n",
    "for row in range(0,100,1):\n",
    "    year = 1900 + row\n",
    "    max_precip = max(c20_data[row])\n",
    "    month = c20_data[row].index(max_precip)\n",
    "\n",
    "    print(\"In the year\",year,\"the rainiest month was\",month_names[month],\"with\",max_precip,\"mm\")"
   ]
  },
  {
   "cell_type": "markdown",
   "metadata": {},
   "source": [
    "That is quite an achievement, given the limited amount of programming you know so far.\n",
    "\n",
    "If you go through this though, you will (should) see that it is really not very efficient.\n",
    "\n",
    "For example:\n",
    "\n",
    "    we read all the data in and then filter out the years we want (what if the dataset were huge?)\n",
    "    we loop over the 100 years multiple times\n",
    "    we store intermediate results\n",
    "\n",
    "For this exercise, you should look through the code we developed and try to make it more efficient.\n",
    "\n",
    "Efficiency should not override clarity and understanding though, so make sure you can understand what is going on at each stage."
   ]
  },
  {
   "cell_type": "markdown",
   "metadata": {},
   "source": [
    "## Answer 2.5"
   ]
  },
  {
   "cell_type": "code",
   "execution_count": 28,
   "metadata": {},
   "outputs": [
    {
     "name": "stdout",
     "output_type": "stream",
     "text": [
      "In South East England\n",
      "In the year 1900 the rainiest month was Jan with 1900.0 mm\n",
      "In the year 1901 the rainiest month was Jan with 1901.0 mm\n",
      "In the year 1902 the rainiest month was Jan with 1902.0 mm\n",
      "In the year 1903 the rainiest month was Jan with 1903.0 mm\n",
      "In the year 1904 the rainiest month was Jan with 1904.0 mm\n",
      "In the year 1905 the rainiest month was Jan with 1905.0 mm\n",
      "In the year 1906 the rainiest month was Jan with 1906.0 mm\n",
      "In the year 1907 the rainiest month was Jan with 1907.0 mm\n",
      "In the year 1908 the rainiest month was Jan with 1908.0 mm\n",
      "In the year 1909 the rainiest month was Jan with 1909.0 mm\n",
      "In the year 1910 the rainiest month was Jan with 1910.0 mm\n",
      "In the year 1911 the rainiest month was Jan with 1911.0 mm\n",
      "In the year 1912 the rainiest month was Jan with 1912.0 mm\n",
      "In the year 1913 the rainiest month was Jan with 1913.0 mm\n",
      "In the year 1914 the rainiest month was Jan with 1914.0 mm\n",
      "In the year 1915 the rainiest month was Jan with 1915.0 mm\n",
      "In the year 1916 the rainiest month was Jan with 1916.0 mm\n",
      "In the year 1917 the rainiest month was Jan with 1917.0 mm\n",
      "In the year 1918 the rainiest month was Jan with 1918.0 mm\n",
      "In the year 1919 the rainiest month was Jan with 1919.0 mm\n",
      "In the year 1920 the rainiest month was Jan with 1920.0 mm\n",
      "In the year 1921 the rainiest month was Jan with 1921.0 mm\n",
      "In the year 1922 the rainiest month was Jan with 1922.0 mm\n",
      "In the year 1923 the rainiest month was Jan with 1923.0 mm\n",
      "In the year 1924 the rainiest month was Jan with 1924.0 mm\n",
      "In the year 1925 the rainiest month was Jan with 1925.0 mm\n",
      "In the year 1926 the rainiest month was Jan with 1926.0 mm\n",
      "In the year 1927 the rainiest month was Jan with 1927.0 mm\n",
      "In the year 1928 the rainiest month was Jan with 1928.0 mm\n",
      "In the year 1929 the rainiest month was Jan with 1929.0 mm\n",
      "In the year 1930 the rainiest month was Jan with 1930.0 mm\n",
      "In the year 1931 the rainiest month was Jan with 1931.0 mm\n",
      "In the year 1932 the rainiest month was Jan with 1932.0 mm\n",
      "In the year 1933 the rainiest month was Jan with 1933.0 mm\n",
      "In the year 1934 the rainiest month was Jan with 1934.0 mm\n",
      "In the year 1935 the rainiest month was Jan with 1935.0 mm\n",
      "In the year 1936 the rainiest month was Jan with 1936.0 mm\n",
      "In the year 1937 the rainiest month was Jan with 1937.0 mm\n",
      "In the year 1938 the rainiest month was Jan with 1938.0 mm\n",
      "In the year 1939 the rainiest month was Jan with 1939.0 mm\n",
      "In the year 1940 the rainiest month was Jan with 1940.0 mm\n",
      "In the year 1941 the rainiest month was Jan with 1941.0 mm\n",
      "In the year 1942 the rainiest month was Jan with 1942.0 mm\n",
      "In the year 1943 the rainiest month was Jan with 1943.0 mm\n",
      "In the year 1944 the rainiest month was Jan with 1944.0 mm\n",
      "In the year 1945 the rainiest month was Jan with 1945.0 mm\n",
      "In the year 1946 the rainiest month was Jan with 1946.0 mm\n",
      "In the year 1947 the rainiest month was Jan with 1947.0 mm\n",
      "In the year 1948 the rainiest month was Jan with 1948.0 mm\n",
      "In the year 1949 the rainiest month was Jan with 1949.0 mm\n",
      "In the year 1950 the rainiest month was Jan with 1950.0 mm\n",
      "In the year 1951 the rainiest month was Jan with 1951.0 mm\n",
      "In the year 1952 the rainiest month was Jan with 1952.0 mm\n",
      "In the year 1953 the rainiest month was Jan with 1953.0 mm\n",
      "In the year 1954 the rainiest month was Jan with 1954.0 mm\n",
      "In the year 1955 the rainiest month was Jan with 1955.0 mm\n",
      "In the year 1956 the rainiest month was Jan with 1956.0 mm\n",
      "In the year 1957 the rainiest month was Jan with 1957.0 mm\n",
      "In the year 1958 the rainiest month was Jan with 1958.0 mm\n",
      "In the year 1959 the rainiest month was Jan with 1959.0 mm\n",
      "In the year 1960 the rainiest month was Jan with 1960.0 mm\n",
      "In the year 1961 the rainiest month was Jan with 1961.0 mm\n",
      "In the year 1962 the rainiest month was Jan with 1962.0 mm\n",
      "In the year 1963 the rainiest month was Jan with 1963.0 mm\n",
      "In the year 1964 the rainiest month was Jan with 1964.0 mm\n",
      "In the year 1965 the rainiest month was Jan with 1965.0 mm\n",
      "In the year 1966 the rainiest month was Jan with 1966.0 mm\n",
      "In the year 1967 the rainiest month was Jan with 1967.0 mm\n",
      "In the year 1968 the rainiest month was Jan with 1968.0 mm\n",
      "In the year 1969 the rainiest month was Jan with 1969.0 mm\n",
      "In the year 1970 the rainiest month was Jan with 1970.0 mm\n",
      "In the year 1971 the rainiest month was Jan with 1971.0 mm\n",
      "In the year 1972 the rainiest month was Jan with 1972.0 mm\n",
      "In the year 1973 the rainiest month was Jan with 1973.0 mm\n",
      "In the year 1974 the rainiest month was Jan with 1974.0 mm\n",
      "In the year 1975 the rainiest month was Jan with 1975.0 mm\n",
      "In the year 1976 the rainiest month was Jan with 1976.0 mm\n",
      "In the year 1977 the rainiest month was Jan with 1977.0 mm\n",
      "In the year 1978 the rainiest month was Jan with 1978.0 mm\n",
      "In the year 1979 the rainiest month was Jan with 1979.0 mm\n",
      "In the year 1980 the rainiest month was Jan with 1980.0 mm\n",
      "In the year 1981 the rainiest month was Jan with 1981.0 mm\n",
      "In the year 1982 the rainiest month was Jan with 1982.0 mm\n",
      "In the year 1983 the rainiest month was Jan with 1983.0 mm\n",
      "In the year 1984 the rainiest month was Jan with 1984.0 mm\n",
      "In the year 1985 the rainiest month was Jan with 1985.0 mm\n",
      "In the year 1986 the rainiest month was Jan with 1986.0 mm\n",
      "In the year 1987 the rainiest month was Jan with 1987.0 mm\n",
      "In the year 1988 the rainiest month was Jan with 1988.0 mm\n",
      "In the year 1989 the rainiest month was Jan with 1989.0 mm\n",
      "In the year 1990 the rainiest month was Jan with 1990.0 mm\n",
      "In the year 1991 the rainiest month was Jan with 1991.0 mm\n",
      "In the year 1992 the rainiest month was Jan with 1992.0 mm\n",
      "In the year 1993 the rainiest month was Jan with 1993.0 mm\n",
      "In the year 1994 the rainiest month was Jan with 1994.0 mm\n",
      "In the year 1995 the rainiest month was Jan with 1995.0 mm\n",
      "In the year 1996 the rainiest month was Jan with 1996.0 mm\n",
      "In the year 1997 the rainiest month was Jan with 1997.0 mm\n",
      "In the year 1998 the rainiest month was Jan with 1998.0 mm\n",
      "In the year 1999 the rainiest month was Jan with 1999.0 mm\n"
     ]
    }
   ],
   "source": [
    "# specify filename\n",
    "filename = 'files/data/HadSEEP_monthly_qc.txt'\n",
    "\n",
    "fp = open(filename,'r')\n",
    "\n",
    "# years range\n",
    "years = list(range(1900,2000))\n",
    "\n",
    "# set up list to store data in\n",
    "c20_data = []\n",
    "\n",
    "# loop over each line\n",
    "for line_data in fp.readlines()[4:]:\n",
    "    # split on white space\n",
    "    # convert data to float\n",
    "    year_data = [float(i) for i in line_data.split()] \n",
    "    \n",
    "    if year_data[0] in years:\n",
    "        c20_data.append(year_data)\n",
    "        \n",
    "# Aside: show which month that was\n",
    "month_names = [ \"Jan\", \"Feb\", \"Mar\", \"Apr\", \\\n",
    "    \"May\", \"Jun\", \"Jul\", \"Aug\", \"Sep\", \"Oct\", \"Nov\", \"Dec\" ]\n",
    "\n",
    "print(\"In South East England\")\n",
    "for row,year in enumerate(years):\n",
    "    max_precip = max(c20_data[row])\n",
    "    month = c20_data[row].index(max_precip)\n",
    "\n",
    "    print(\"In the year\",year,\"the rainiest month was\",month_names[month],\"with\",max_precip,\"mm\")\n",
    "    \n",
    "fp.close()"
   ]
  },
  {
   "cell_type": "markdown",
   "metadata": {},
   "source": [
    "## Exercise 2.6"
   ]
  },
  {
   "cell_type": "markdown",
   "metadata": {},
   "source": [
    "### Average Temperature\n",
    "\n",
    "We want to calculate the long-term average temperature (tmax degC) using observational data at one or more meteorological stations. Such data are [relevant to understanding climate and its dynamics](http://www.carbonbrief.org/profiles/global-temperatures/).\n",
    "\n",
    "We choose the period 1960 to 1990 (30 years average to even out natural variability).\n",
    "\n",
    "We can obtain monthly average data for a number of UK stations from the [UK Met. Office](http://www.metoffice.gov.uk/climate/uk/stationdata).\n",
    "\n",
    "Not all station records are complete enough for this calculation, so we select, for example [Heathrow](http://www.metoffice.gov.uk/climate/uk/stationdata/heathrowdata.txt).\n",
    "\n",
    "Just with the Python skills you have learned so far, you should be able to solve a problem of this nature."
   ]
  },
  {
   "cell_type": "markdown",
   "metadata": {},
   "source": [
    "## Answer 2.6"
   ]
  },
  {
   "cell_type": "markdown",
   "metadata": {},
   "source": [
    "Before diving into this though, you need to think through **what steps** you need to go through to achieve your aim?\n",
    "\n",
    "At a 'high' level, this could be:\n",
    "\n",
    "1. Get hold of the data\n",
    "2. Read the data into the computer program\n",
    "3. Select which years you want\n",
    "4. Average the data for each month over all selected years\n",
    "5. Print the results\n",
    "\n",
    "So now we need to think about how to implement these steps.\n",
    "\n",
    "For the first step, there are many ways you could do this."
   ]
  },
  {
   "cell_type": "code",
   "execution_count": 29,
   "metadata": {},
   "outputs": [
    {
     "name": "stdout",
     "output_type": "stream",
     "text": [
      "--2014-09-30 11:13:08--  http://www.metoffice.gov.uk/climate/uk/stationdata/heathrowdata.txt\r\n",
      "Resolving www.metoffice.gov.uk... 213.120.162.233, 213.120.162.211\r\n",
      "Connecting to www.metoffice.gov.uk|213.120.162.233|:80... connected.\r\n",
      "HTTP request sent, awaiting response... 301 Moved Permanently\r\n",
      "Location: http://www.metoffice.gov.uk/pub/data/weather/uk/climate/stationdata/heathrowdata.txt [following]\r\n",
      "--2014-09-30 11:13:08--  http://www.metoffice.gov.uk/pub/data/weather/uk/climate/stationdata/heathrowdata.txt\r\n",
      "Reusing existing connection to www.metoffice.gov.uk:80.\r\n",
      "HTTP request sent, awaiting response... 200 OK\r\n",
      "Length: 41280 (40K) [text/plain]\r\n",
      "Saving to: ‘files/data/heathrowdata.txt’\r\n",
      "\r\n",
      "100%[======================================>] 41,280      --.-K/s   in 0s      \r\n",
      "\r\n",
      "2014-09-30 11:13:09 (206 MB/s) - ‘files/data/heathrowdata.txt’ saved [41280/41280]\r\n",
      "\r\n"
     ]
    }
   ],
   "source": [
    "!wget -O files/data/heathrowdata.txt http://www.metoffice.gov.uk/climate/uk/stationdata/heathrowdata.txt"
   ]
  },
  {
   "cell_type": "code",
   "execution_count": 30,
   "metadata": {},
   "outputs": [],
   "source": [
    "ifile = 'files/data/heathrowdata.txt'\n",
    "fp = open(ifile)\n",
    "raw_data = fp.readlines()\n",
    "fp.close()\n",
    "\n",
    "raw_data = raw_data[7:] # Skip headers"
   ]
  },
  {
   "cell_type": "code",
   "execution_count": 31,
   "metadata": {},
   "outputs": [
    {
     "name": "stdout",
     "output_type": "stream",
     "text": [
      "[6.9, 7.9, 10.2, 14.3, 18.4, 22.1, 20.1, 20.3, 18.5, 14.2, 11.2, 6.9]\n",
      "[6.9, 10.3, 13.9, 15.0, 16.8, 21.7, 22.1, 21.7, 20.9, 15.6, 9.9, 6.8]\n",
      "[7.9, 7.6, 7.4, 12.7, 15.0, 20.4, 20.6, 20.0, 17.8, 15.7, 9.1, 5.0]\n",
      "[0.8, 2.8, 10.7, 13.6, 16.0, 20.8, 21.1, 19.8, 18.0, 14.8, 11.8, 5.4]\n",
      "[5.8, 7.6, 7.6, 12.8, 19.6, 19.3, 22.8, 22.3, 21.1, 13.7, 11.2, 7.1]\n",
      "[6.6, 5.9, 10.5, 13.4, 16.8, 19.7, 19.3, 20.8, 17.4, 16.2, 8.4, 8.4]\n",
      "[5.3, 9.3, 10.9, 12.2, 17.0, 21.8, 20.1, 20.6, 19.6, 14.7, 8.8, 9.3]\n",
      "[7.3, 9.3, 11.6, 12.5, 15.6, 20.1, 23.5, 21.5, 18.5, 15.0, 9.7, 7.2]\n",
      "[7.2, 5.7, 11.1, 13.7, 15.4, 20.6, 20.7, 20.2, 18.8, 16.5, 9.5, 5.4]\n",
      "[8.9, 4.9, 8.0, 13.6, 17.1, 20.6, 23.9, 21.8, 19.6, 18.2, 9.6, 6.1]\n",
      "[7.1, 7.2, 8.1, 11.4, 19.2, 23.6, 21.3, 22.3, 20.3, 15.7, 11.9, 7.0]\n",
      "[7.8, 8.6, 9.1, 12.2, 18.1, 17.8, 24.1, 21.3, 20.7, 17.2, 10.4, 9.3]\n",
      "[6.9, 7.9, 12.4, 12.9, 16.0, 17.5, 22.3, 21.8, 17.3, 15.6, 9.9, 9.4]\n",
      "[7.3, 8.1, 11.5, 12.5, 16.9, 21.9, 21.4, 23.7, 20.7, 13.9, 10.3, 8.6]\n",
      "[9.6, 9.2, 10.3, 14.0, 17.0, 20.1, 20.9, 21.5, 17.5, 11.0, 10.6, 11.0]\n",
      "[10.3, 9.3, 8.4, 13.3, 15.1, 21.8, 24.1, 25.9, 19.5, 14.4, 10.1, 7.6]\n",
      "[8.8, 7.8, 9.5, 13.7, 19.3, 25.5, 26.6, 25.1, 19.0, 14.9, 9.9, 5.6]\n",
      "[6.1, 9.6, 11.2, 12.2, 16.4, 17.4, 22.4, 20.3, 18.0, 16.3, 10.4, 9.2]\n",
      "[6.7, 6.2, 11.3, 10.7, 17.2, 19.7, 20.5, 20.7, 20.1, 17.1, 12.6, 7.8]\n",
      "[3.8, 4.5, 9.2, 12.7, 15.9, 19.0, 22.5, 21.0, 19.6, 16.4, 10.8, 9.2]\n",
      "[6.0, 9.9, 9.0, 14.0, 17.3, 19.8, 19.7, 21.9, 20.1, 14.0, 9.3, 8.9]\n",
      "[8.1, 7.1, 11.8, 12.9, 16.1, 18.5, 22.0, 22.8, 20.3, 12.9, 11.5, 4.4]\n",
      "[6.9, 8.4, 11.1, 14.3, 18.0, 21.5, 22.7, 22.2, 20.8, 14.1, 11.4, 8.2]\n",
      "[10.0, 5.5, 10.8, 12.4, 15.6, 20.8, 27.6, 24.5, 19.3, 15.1, 11.3, 9.2]\n",
      "[8.0, 7.4, 8.9, 14.6, 14.9, 21.3, 24.2, 24.4, 18.6, 15.8, 12.2, 8.7]\n",
      "[4.1, 6.3, 9.4, 14.0, 16.4, 18.5, 22.9, 20.3, 20.6, 16.1, 8.1, 10.0]\n",
      "[7.2, 1.7, 10.1, 10.9, 16.3, 21.8, 22.6, 20.0, 17.4, 16.4, 12.1, 9.7]\n",
      "[3.6, 7.7, 8.5, 15.8, 16.3, 18.6, 21.8, 21.8, 19.3, 15.0, 9.8, 8.9]\n",
      "[8.8, 8.7, 10.7, 13.5, 18.0, 19.7, 20.0, 21.8, 18.8, 15.5, 9.9, 10.4]\n",
      "[9.5, 10.2, 12.9, 11.5, 21.0, 22.1, 25.8, 24.2, 20.7, 17.1, 10.9, 9.4]\n"
     ]
    }
   ],
   "source": [
    "# set up the problem\n",
    "start_year = 1960\n",
    "end_year = 1990\n",
    "\n",
    "tmax = []\n",
    "\n",
    "for l in raw_data:\n",
    "    s = l.split()\n",
    "    year = int( s[0] )\n",
    "    if year >= start_year and year < end_year:\n",
    "        month = int ( s[1] )\n",
    "        if month == 1:\n",
    "            tmax.append([])\n",
    "        tmax[-1].append(float ( s[2] ))\n",
    "\n",
    "for l in tmax:\n",
    "    print(l)"
   ]
  },
  {
   "cell_type": "code",
   "execution_count": 32,
   "metadata": {},
   "outputs": [],
   "source": [
    "monthly_avg = []\n",
    "n_years = len(tmax)\n",
    "\n",
    "\n",
    "for month in range ( len(tmax[0]) ):\n",
    "    temp = 0.\n",
    "    for year in range (n_years):\n",
    "        temp += tmax[year][month]\n",
    "    monthly_avg.append(temp/n_years)"
   ]
  },
  {
   "cell_type": "code",
   "execution_count": 33,
   "metadata": {},
   "outputs": [
    {
     "name": "stdout",
     "output_type": "stream",
     "text": [
      "T results for 30 years: 1960 to 1990\n",
      "\n",
      "\tMonth\tTmaxAvg\n",
      "\n",
      "\tJan \t7.00666666667\n",
      "\tFeb \t7.42\n",
      "\tMar \t10.2033333333\n",
      "\tApr \t13.11\n",
      "\tMay \t16.9566666667\n",
      "\tJun \t20.4666666667\n",
      "\tJul \t22.32\n",
      "\tAug \t21.8833333333\n",
      "\tSep \t19.2933333333\n",
      "\tOct \t15.3033333333\n",
      "\tNov \t10.42\n",
      "\tDec \t8.00333333333\n"
     ]
    }
   ],
   "source": [
    "print(\"T results for\",n_years,\"years:\",start_year,\"to\",end_year)\n",
    "\n",
    "month_names = [ \"Jan\", \"Feb\", \"Mar\", \"Apr\", \\\n",
    "    \"May\", \"Jun\", \"Jul\", \"Aug\", \"Sep\", \"Oct\", \"Nov\", \"Dec\" ]\n",
    "\n",
    "print(\"\\n\\tMonth\\tTmaxAvg\\n\")\n",
    "for i, mname in enumerate ( month_names ):\n",
    "    print('\\t',mname,'\\t',monthly_avg[i])"
   ]
  },
  {
   "cell_type": "markdown",
   "metadata": {},
   "source": [
    "## Exercise 2.7"
   ]
  },
  {
   "cell_type": "code",
   "execution_count": 34,
   "metadata": {},
   "outputs": [
    {
     "name": "stdout",
     "output_type": "stream",
     "text": [
      "I found 62 files to process\n",
      "/data/geospatial_19/ucfajlg/fire/Angola/MYD09/MYD09GA.A2004214.h19v10.005.2007299212915.hdf\n",
      "\n",
      "/data/geospatial_19/ucfajlg/fire/Angola/MYD09/MYD09GA.A2004215.h19v10.005.2007300042347.hdf\n",
      "\n",
      "/data/geospatial_19/ucfajlg/fire/Angola/MYD09/MYD09GA.A2004216.h19v10.005.2007300091257.hdf\n",
      "\n",
      "/data/geospatial_19/ucfajlg/fire/Angola/MYD09/MYD09GA.A2004217.h19v10.005.2007300153436.hdf\n",
      "\n",
      "/data/geospatial_19/ucfajlg/fire/Angola/MYD09/MYD09GA.A2004218.h19v10.005.2007300215826.hdf\n",
      "\n",
      "/data/geospatial_19/ucfajlg/fire/Angola/MYD09/MYD09GA.A2004219.h19v10.005.2007302194509.hdf\n",
      "\n",
      "/data/geospatial_19/ucfajlg/fire/Angola/MYD09/MYD09GA.A2004220.h19v10.005.2007302093547.hdf\n",
      "\n",
      "/data/geospatial_19/ucfajlg/fire/Angola/MYD09/MYD09GA.A2004221.h19v10.005.2007302222054.hdf\n",
      "\n",
      "/data/geospatial_19/ucfajlg/fire/Angola/MYD09/MYD09GA.A2004222.h19v10.005.2007303011606.hdf\n",
      "\n",
      "/data/geospatial_19/ucfajlg/fire/Angola/MYD09/MYD09GA.A2004223.h19v10.005.2007303073538.hdf\n",
      "\n"
     ]
    }
   ],
   "source": [
    "# 1. Read the configuration file\n",
    "# into the dict modis\n",
    "import configparser\n",
    "\n",
    "config = configparser.ConfigParser()\n",
    "config.read('files/data/modis.cfg')\n",
    "\n",
    "# we can convert this to a normal dictionary\n",
    "modis = {}\n",
    "for k in config.sections():\n",
    "    modis[k] = dict(config.items(k))\n",
    "\n",
    "# 2. Now, loop over config sections\n",
    "# and get the sub-dictionary which we call sub_dict\n",
    "\n",
    "# 3. set up anb empty list to contain the\n",
    "# files we want to process\n",
    "wanted_files = []\n",
    "\n",
    "for k,v in list(modis.items()):\n",
    "    \n",
    "    sub_dict = v\n",
    "    \n",
    "    # 3a. Read the file list\n",
    "    fp = open(sub_dict['file_list'],'r')\n",
    "    file_data = fp.readlines()\n",
    "    fp.close()\n",
    "    \n",
    "    # 3b. find the doy range\n",
    "    doy_range = list(range(int(sub_dict['doy_start']),\\\n",
    "                          int(sub_dict['doy_end'])))\n",
    "    \n",
    "    # 3c. loop over each file read from\n",
    "    #     sub_dict['file_list']\n",
    "    for count in range(len(file_data)):\n",
    "        # 3d. extract doy from the file name\n",
    "        this_file = file_data[count]\n",
    "        \n",
    "        doy = int(this_file.split('.')[1][-3:])\n",
    "        \n",
    "        # 3e. see if doy is in the range we want?\n",
    "        if doy in doy_range:\n",
    "            \n",
    "            # 3f. put the directory on the fornt\n",
    "            full_name = sub_dict['dir'] + \\\n",
    "                        '/' + this_file\n",
    "            wanted_files.append(full_name)\n",
    "            \n",
    "print(\"I found %d files to process\"%len(wanted_files))\n",
    "\n",
    "# I won't print the whole list as its too long\n",
    "# just the first 10\n",
    "for f in wanted_files[:10]:\n",
    "    print(f)"
   ]
  },
  {
   "cell_type": "markdown",
   "metadata": {},
   "source": [
    "**You should modify the example above to make it simpler, if you can spot any places for that (don't make it more complicated!).**\n",
    "\n",
    "**You should then modify it so that the list of files that we want to process is printed to a file.**"
   ]
  },
  {
   "cell_type": "markdown",
   "metadata": {},
   "source": [
    "## Answer 2.7"
   ]
  },
  {
   "cell_type": "markdown",
   "metadata": {},
   "source": [
    "Probably the main place you could make the code simpler would be in the loop:\n",
    "\n",
    "```python\n",
    "    # 3a. Read the file list\n",
    "    fp = open(sub_dict['file_list'],'r')\n",
    "    file_data = fp.readlines()\n",
    "    fp.close()\n",
    "    \n",
    "    # 3b. find the doy range\n",
    "    doy_range = range(int(sub_dict['doy_start']),\\\n",
    "                          int(sub_dict['doy_end']))\n",
    "    \n",
    "    # 3c. loop over each file read from\n",
    "    #     sub_dict['file_list']\n",
    "    for count in xrange(len(file_data)):\n",
    "        # 3d. extract doy from the file name\n",
    "        this_file = file_data[count]\n",
    "        \n",
    "        doy = int(this_file.split('.')[1][-3:])\n",
    "        \n",
    "        # 3e. see if doy is in the range we want?\n",
    "        if doy in doy_range:\n",
    "            \n",
    "            # 3f. put the directory on the fornt\n",
    "            full_name = sub_dict['dir'] + \\\n",
    "                        '/' + this_file\n",
    "            wanted_files.append(full_name)\n",
    "```"
   ]
  },
  {
   "cell_type": "markdown",
   "metadata": {},
   "source": [
    "Really, we don't need the `count` variable and structure in here, and we could replace this by:\n",
    "\n",
    "```python\n",
    "    # 3a. Read the file list\n",
    "    fp = open(sub_dict['file_list'],'r')\n",
    "    \n",
    "    # 3b. find the doy range\n",
    "    doy_range = range(int(sub_dict['doy_start']),\\\n",
    "                          int(sub_dict['doy_end']))\n",
    "    \n",
    "    # 3c. loop over each file read from\n",
    "    #     sub_dict['file_list']\n",
    "    for this_file in fp.readlines():\n",
    "    \n",
    "        # 3d. extract doy from the file name\n",
    "        doy = int(this_file.split('.')[1][-3:])\n",
    "        \n",
    "        # 3e. see if doy is in the range we want?\n",
    "        if doy in doy_range:\n",
    "        \n",
    "            # 3f. store the filename in the list\n",
    "            wanted_files.append(\"%s/%s\"%(sub_dict['dir'],this_file))\n",
    "\n",
    "    # close the file here now\n",
    "    fp.close()\n",
    "\n",
    "```\n",
    "\n",
    "If you wanted, you could also do some clever things with `and`:\n",
    "\n",
    "\n",
    "```python\n",
    "    # 3a. Read the file list\n",
    "    fp = open(sub_dict['file_list'],'r')\n",
    "    \n",
    "    # 3b. find the doy range\n",
    "    doy_range = range(int(sub_dict['doy_start']),\\\n",
    "                          int(sub_dict['doy_end']))\n",
    "    \n",
    "    # 3c. loop over each file read from\n",
    "    #     sub_dict['file_list']\n",
    "    for this_file in fp.readlines():\n",
    "    \n",
    "        # 3d. extract doy from the file name\n",
    "        doy = int(this_file.split('.')[1][-3:])\n",
    "        \n",
    "        # 3e. see if doy is in the range we want\n",
    "        # and put in list if so\n",
    "        doy in doy_range and \\\n",
    "            wanted_files.append(\"%s/%s\"%(sub_dict['dir'],this_file))\n",
    "\n",
    "    # close the file here now\n",
    "    fp.close()\n",
    "\n",
    "```\n",
    "\n",
    "Writing the results to file should be straightforward enough for you now.\n",
    "\n",
    "You could do it at the end:"
   ]
  },
  {
   "cell_type": "code",
   "execution_count": 35,
   "metadata": {},
   "outputs": [
    {
     "name": "stdout",
     "output_type": "stream",
     "text": [
      "I found 62 files to process\n"
     ]
    }
   ],
   "source": [
    "# 1. Read the configuration file\n",
    "# into the dict modis\n",
    "import configparser\n",
    "\n",
    "# good to open the file early on\n",
    "# in case it fails\n",
    "ofile = 'files/data/modis_files.dat'\n",
    "ofp = open(ofile,\"w\")\n",
    "\n",
    "config = configparser.ConfigParser()\n",
    "config.read('files/data/modis.cfg')\n",
    "\n",
    "# we can convert this to a normal dictionary\n",
    "modis = {}\n",
    "for k in config.sections():\n",
    "    modis[k] = dict(config.items(k))\n",
    "\n",
    "# 2. Now, loop over config sections\n",
    "# and get the sub-dictionary which we call sub_dict\n",
    "\n",
    "# 3. set up anb empty list to contain the\n",
    "# files we want to process\n",
    "wanted_files = []\n",
    "\n",
    "for k,v in list(modis.items()):\n",
    "    \n",
    "    sub_dict = v\n",
    "    \n",
    "    # 3a. Read the file list\n",
    "    fp = open(sub_dict['file_list'],'r')\n",
    "    \n",
    "    # 3b. find the doy range\n",
    "    doy_range = list(range(int(sub_dict['doy_start']),\\\n",
    "                          int(sub_dict['doy_end'])))\n",
    "    \n",
    "    # 3c. loop over each file read from\n",
    "    #     sub_dict['file_list']\n",
    "    for this_file in fp.readlines():\n",
    "    \n",
    "        # 3d. extract doy from the file name\n",
    "        doy = int(this_file.split('.')[1][-3:])\n",
    "        # 3e. see if doy is in the range we want\n",
    "        # and put in list if so\n",
    "        doy in doy_range and \\\n",
    "            wanted_files.append(\"%s/%s\"%(sub_dict['dir'],this_file))\n",
    "    fp.close()\n",
    "            \n",
    "print(\"I found %d files to process\"%len(wanted_files))\n",
    "\n",
    "ofp.writelines(wanted_files)\n",
    "ofp.close()"
   ]
  },
  {
   "cell_type": "code",
   "execution_count": 36,
   "metadata": {},
   "outputs": [
    {
     "name": "stdout",
     "output_type": "stream",
     "text": [
      "/data/geospatial_19/ucfajlg/fire/Angola/MYD09/MYD09GA.A2004214.h19v10.005.2007299212915.hdf\r\n",
      "/data/geospatial_19/ucfajlg/fire/Angola/MYD09/MYD09GA.A2004215.h19v10.005.2007300042347.hdf\r\n",
      "/data/geospatial_19/ucfajlg/fire/Angola/MYD09/MYD09GA.A2004216.h19v10.005.2007300091257.hdf\r\n",
      "/data/geospatial_19/ucfajlg/fire/Angola/MYD09/MYD09GA.A2004217.h19v10.005.2007300153436.hdf\r\n",
      "/data/geospatial_19/ucfajlg/fire/Angola/MYD09/MYD09GA.A2004218.h19v10.005.2007300215826.hdf\r\n",
      "/data/geospatial_19/ucfajlg/fire/Angola/MYD09/MYD09GA.A2004219.h19v10.005.2007302194509.hdf\r\n",
      "/data/geospatial_19/ucfajlg/fire/Angola/MYD09/MYD09GA.A2004220.h19v10.005.2007302093547.hdf\r\n",
      "/data/geospatial_19/ucfajlg/fire/Angola/MYD09/MYD09GA.A2004221.h19v10.005.2007302222054.hdf\r\n",
      "/data/geospatial_19/ucfajlg/fire/Angola/MYD09/MYD09GA.A2004222.h19v10.005.2007303011606.hdf\r\n",
      "/data/geospatial_19/ucfajlg/fire/Angola/MYD09/MYD09GA.A2004223.h19v10.005.2007303073538.hdf\r\n"
     ]
    }
   ],
   "source": [
    "!head -10 < files/data/modis_files.dat"
   ]
  },
  {
   "cell_type": "markdown",
   "metadata": {},
   "source": [
    "Or you could print as you go along in the loop:"
   ]
  },
  {
   "cell_type": "code",
   "execution_count": 37,
   "metadata": {},
   "outputs": [],
   "source": [
    "# 1. Read the configuration file\n",
    "# into the dict modis\n",
    "import configparser\n",
    "\n",
    "# good to open the file early on\n",
    "# in case it fails\n",
    "ofile = 'files/data/modis_files.dat'\n",
    "ofp = open(ofile,\"w\")\n",
    "\n",
    "config = configparser.ConfigParser()\n",
    "config.read('files/data/modis.cfg')\n",
    "\n",
    "# we can convert this to a normal dictionary\n",
    "modis = {}\n",
    "for k in config.sections():\n",
    "    modis[k] = dict(config.items(k))\n",
    "\n",
    "# 2. Now, loop over config sections\n",
    "# and get the sub-dictionary which we call sub_dict\n",
    "\n",
    "# 3. set up anb empty list to contain the\n",
    "# files we want to process\n",
    "wanted_files = []\n",
    "\n",
    "for k,v in list(modis.items()):\n",
    "    \n",
    "    sub_dict = v\n",
    "    \n",
    "    # 3a. Read the file list\n",
    "    fp = open(sub_dict['file_list'],'r')\n",
    "    \n",
    "    # 3b. find the doy range\n",
    "    doy_range = list(range(int(sub_dict['doy_start']),\\\n",
    "                          int(sub_dict['doy_end'])))\n",
    "    \n",
    "    # 3c. loop over each file read from\n",
    "    #     sub_dict['file_list']\n",
    "    for this_file in fp.readlines():\n",
    "    \n",
    "        # 3d. extract doy from the file name\n",
    "        # 3e. see if doy is in the range we want\n",
    "        # and put in list if so\n",
    "        (int(this_file.split('.')[1][-3:]) in doy_range) and \\\n",
    "                ofp.write(\"%s/%s\"%(sub_dict['dir'],this_file))\n",
    "    fp.close()\n",
    "            \n",
    "ofp.close()"
   ]
  },
  {
   "cell_type": "code",
   "execution_count": 38,
   "metadata": {},
   "outputs": [
    {
     "name": "stdout",
     "output_type": "stream",
     "text": [
      "/data/geospatial_19/ucfajlg/fire/Angola/MYD09/MYD09GA.A2004214.h19v10.005.2007299212915.hdf\r\n",
      "/data/geospatial_19/ucfajlg/fire/Angola/MYD09/MYD09GA.A2004215.h19v10.005.2007300042347.hdf\r\n",
      "/data/geospatial_19/ucfajlg/fire/Angola/MYD09/MYD09GA.A2004216.h19v10.005.2007300091257.hdf\r\n",
      "/data/geospatial_19/ucfajlg/fire/Angola/MYD09/MYD09GA.A2004217.h19v10.005.2007300153436.hdf\r\n",
      "/data/geospatial_19/ucfajlg/fire/Angola/MYD09/MYD09GA.A2004218.h19v10.005.2007300215826.hdf\r\n",
      "/data/geospatial_19/ucfajlg/fire/Angola/MYD09/MYD09GA.A2004219.h19v10.005.2007302194509.hdf\r\n",
      "/data/geospatial_19/ucfajlg/fire/Angola/MYD09/MYD09GA.A2004220.h19v10.005.2007302093547.hdf\r\n",
      "/data/geospatial_19/ucfajlg/fire/Angola/MYD09/MYD09GA.A2004221.h19v10.005.2007302222054.hdf\r\n",
      "/data/geospatial_19/ucfajlg/fire/Angola/MYD09/MYD09GA.A2004222.h19v10.005.2007303011606.hdf\r\n",
      "/data/geospatial_19/ucfajlg/fire/Angola/MYD09/MYD09GA.A2004223.h19v10.005.2007303073538.hdf\r\n"
     ]
    }
   ],
   "source": [
    "!head -10 < files/data/modis_files.dat"
   ]
  }
 ],
 "metadata": {
  "kernelspec": {
   "display_name": "Python 3",
   "language": "python",
   "name": "python3"
  },
  "language_info": {
   "codemirror_mode": {
    "name": "ipython",
    "version": 3
   },
   "file_extension": ".py",
   "mimetype": "text/x-python",
   "name": "python",
   "nbconvert_exporter": "python",
   "pygments_lexer": "ipython3",
   "version": "3.7.10"
  },
  "varInspector": {
   "cols": {
    "lenName": 16,
    "lenType": 16,
    "lenVar": 40
   },
   "kernels_config": {
    "python": {
     "delete_cmd_postfix": "",
     "delete_cmd_prefix": "del ",
     "library": "var_list.py",
     "varRefreshCmd": "print(var_dic_list())"
    },
    "r": {
     "delete_cmd_postfix": ") ",
     "delete_cmd_prefix": "rm(",
     "library": "var_list.r",
     "varRefreshCmd": "cat(var_dic_list()) "
    }
   },
   "types_to_exclude": [
    "module",
    "function",
    "builtin_function_or_method",
    "instance",
    "_Feature"
   ],
   "window_display": false
  }
 },
 "nbformat": 4,
 "nbformat_minor": 1
}
